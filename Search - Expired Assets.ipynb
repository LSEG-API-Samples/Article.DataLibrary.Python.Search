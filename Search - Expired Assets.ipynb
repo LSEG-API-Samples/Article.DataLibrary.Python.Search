{
 "cells": [
  {
   "cell_type": "markdown",
   "metadata": {},
   "source": [
    "## Expired Futures\n",
    "When searching for an expired asset, you will need to specify the date range based on the ExpiryDate property."
   ]
  },
  {
   "cell_type": "code",
   "execution_count": 12,
   "metadata": {},
   "outputs": [
    {
     "data": {
      "text/plain": [
       "<refinitiv.data.session.Definition object at 0x1b5caeb4490 {name='workspace'}>"
      ]
     },
     "execution_count": 12,
     "metadata": {},
     "output_type": "execute_result"
    }
   ],
   "source": [
    "import refinitiv.data as rd\n",
    "from refinitiv.data.content import search\n",
    "import pandas as pd\n",
    "import datetime as dt\n",
    "import dateutil.relativedelta\n",
    "\n",
    "# Default session - desktop\n",
    "rd.open_session()"
   ]
  },
  {
   "cell_type": "code",
   "execution_count": 13,
   "metadata": {},
   "outputs": [
    {
     "data": {
      "text/plain": [
       "'1.1.0'"
      ]
     },
     "execution_count": 13,
     "metadata": {},
     "output_type": "execute_result"
    }
   ],
   "source": [
    "pd.set_option('display.max_colwidth', 140)\n",
    "rd.__version__"
   ]
  },
  {
   "cell_type": "markdown",
   "metadata": {},
   "source": [
    "#### Example - Expired Vodafone futures in the month of Nov 2019."
   ]
  },
  {
   "cell_type": "code",
   "execution_count": 19,
   "metadata": {},
   "outputs": [
    {
     "data": {
      "text/html": [
       "<div>\n",
       "<style scoped>\n",
       "    .dataframe tbody tr th:only-of-type {\n",
       "        vertical-align: middle;\n",
       "    }\n",
       "\n",
       "    .dataframe tbody tr th {\n",
       "        vertical-align: top;\n",
       "    }\n",
       "\n",
       "    .dataframe thead th {\n",
       "        text-align: right;\n",
       "    }\n",
       "</style>\n",
       "<table border=\"1\" class=\"dataframe\">\n",
       "  <thead>\n",
       "    <tr style=\"text-align: right;\">\n",
       "      <th></th>\n",
       "      <th>DTSubjectName</th>\n",
       "      <th>ExchangeName</th>\n",
       "      <th>RIC</th>\n",
       "      <th>RCSAssetCategoryLeaf</th>\n",
       "      <th>AssetState</th>\n",
       "      <th>ExpiryDate</th>\n",
       "      <th>UnderlyingQuoteRIC</th>\n",
       "    </tr>\n",
       "  </thead>\n",
       "  <tbody>\n",
       "    <tr>\n",
       "      <th>0</th>\n",
       "      <td>Johannesburg Stock Exchange Vodacom Group SSF Equity Future Nov 2019</td>\n",
       "      <td>Johannesburg Stock Exchange</td>\n",
       "      <td>VODQX9^1</td>\n",
       "      <td>Equity Future</td>\n",
       "      <td>DC</td>\n",
       "      <td>2019-11-21</td>\n",
       "      <td>[VODJ.J]</td>\n",
       "    </tr>\n",
       "    <tr>\n",
       "      <th>1</th>\n",
       "      <td>Johannesburg Stock Exchange Vodacom Group Limited Cash Settled SSF Equity Future Nov 2019</td>\n",
       "      <td>Johannesburg Stock Exchange</td>\n",
       "      <td>VODSX9^1</td>\n",
       "      <td>Equity Future</td>\n",
       "      <td>DC</td>\n",
       "      <td>2019-11-21</td>\n",
       "      <td>[VODJ.J]</td>\n",
       "    </tr>\n",
       "  </tbody>\n",
       "</table>\n",
       "</div>"
      ],
      "text/plain": [
       "                                                                               DTSubjectName  \\\n",
       "0                       Johannesburg Stock Exchange Vodacom Group SSF Equity Future Nov 2019   \n",
       "1  Johannesburg Stock Exchange Vodacom Group Limited Cash Settled SSF Equity Future Nov 2019   \n",
       "\n",
       "                  ExchangeName       RIC RCSAssetCategoryLeaf AssetState  \\\n",
       "0  Johannesburg Stock Exchange  VODQX9^1        Equity Future         DC   \n",
       "1  Johannesburg Stock Exchange  VODSX9^1        Equity Future         DC   \n",
       "\n",
       "  ExpiryDate UnderlyingQuoteRIC  \n",
       "0 2019-11-21           [VODJ.J]  \n",
       "1 2019-11-21           [VODJ.J]  "
      ]
     },
     "execution_count": 19,
     "metadata": {},
     "output_type": "execute_result"
    }
   ],
   "source": [
    "rd.discovery.search(\n",
    "    view = search.Views.DERIVATIVE_QUOTES,\n",
    "    filter = \"TickerSymbol eq 'vod' and ExpiryDate lt 2019-12-01 and ExpiryDate ge 2019-11-01\",\n",
    "    select = \"DTSubjectName, ExchangeName, RIC, RCSAssetCategoryLeaf, AssetState, ExpiryDate, UnderlyingQuoteRIC\"\n",
    ")"
   ]
  },
  {
   "cell_type": "markdown",
   "metadata": {},
   "source": [
    "#### Example - Expired Crude Oil Futures in the last year"
   ]
  },
  {
   "cell_type": "code",
   "execution_count": 20,
   "metadata": {},
   "outputs": [
    {
     "data": {
      "text/plain": [
       "'ExpiryDate ge 2022-02-21 and ExpiryDate lt 2023-02-21'"
      ]
     },
     "execution_count": 20,
     "metadata": {},
     "output_type": "execute_result"
    }
   ],
   "source": [
    "# Build expiry date range expression\n",
    "date_1_year_ago = dt.datetime.today() - dateutil.relativedelta.relativedelta(days=365)\n",
    "date_range = f'ExpiryDate ge {date_1_year_ago.strftime(\"%Y-%m-%d\")} and ExpiryDate lt {dt.datetime.today().strftime(\"%Y-%m-%d\")}'\n",
    "date_range"
   ]
  },
  {
   "cell_type": "code",
   "execution_count": 21,
   "metadata": {},
   "outputs": [
    {
     "data": {
      "text/html": [
       "<div>\n",
       "<style scoped>\n",
       "    .dataframe tbody tr th:only-of-type {\n",
       "        vertical-align: middle;\n",
       "    }\n",
       "\n",
       "    .dataframe tbody tr th {\n",
       "        vertical-align: top;\n",
       "    }\n",
       "\n",
       "    .dataframe thead th {\n",
       "        text-align: right;\n",
       "    }\n",
       "</style>\n",
       "<table border=\"1\" class=\"dataframe\">\n",
       "  <thead>\n",
       "    <tr style=\"text-align: right;\">\n",
       "      <th></th>\n",
       "      <th>DTSubjectName</th>\n",
       "      <th>RIC</th>\n",
       "      <th>ExpiryDate</th>\n",
       "      <th>RCSUnderlyingProductLeaf</th>\n",
       "    </tr>\n",
       "  </thead>\n",
       "  <tbody>\n",
       "    <tr>\n",
       "      <th>0</th>\n",
       "      <td>NYMEX WTI Light Sweet Crude Oil Calendar Swap US Quarterly  Mar 2023</td>\n",
       "      <td>CLCALQH3</td>\n",
       "      <td>2022-12-31</td>\n",
       "      <td>Crude Oil</td>\n",
       "    </tr>\n",
       "    <tr>\n",
       "      <th>1</th>\n",
       "      <td>ICE Brent Crude Electronic Energy Fair Value Future Nov 2022</td>\n",
       "      <td>LCOFVX2</td>\n",
       "      <td>2022-09-30</td>\n",
       "      <td>Brent Crude</td>\n",
       "    </tr>\n",
       "    <tr>\n",
       "      <th>2</th>\n",
       "      <td>Shanghai International Energy Exchange Medium Sour Crude Oil Fair Value Future Oct 2022</td>\n",
       "      <td>ISCFVV2</td>\n",
       "      <td>2022-09-23</td>\n",
       "      <td>Crude Oil</td>\n",
       "    </tr>\n",
       "    <tr>\n",
       "      <th>3</th>\n",
       "      <td>NYMEX WTI Light Sweet Crude Oil Calendar Swap US Monthly  Aug 2022</td>\n",
       "      <td>CLCALMQ2</td>\n",
       "      <td>2022-07-31</td>\n",
       "      <td>Crude Oil</td>\n",
       "    </tr>\n",
       "    <tr>\n",
       "      <th>4</th>\n",
       "      <td>ICE WTI Crude Electronic Energy Fair Value Future May 2022</td>\n",
       "      <td>WTCLFVK2</td>\n",
       "      <td>2022-04-19</td>\n",
       "      <td>US Light Sweet Crude</td>\n",
       "    </tr>\n",
       "  </tbody>\n",
       "</table>\n",
       "</div>"
      ],
      "text/plain": [
       "                                                                             DTSubjectName  \\\n",
       "0                     NYMEX WTI Light Sweet Crude Oil Calendar Swap US Quarterly  Mar 2023   \n",
       "1                             ICE Brent Crude Electronic Energy Fair Value Future Nov 2022   \n",
       "2  Shanghai International Energy Exchange Medium Sour Crude Oil Fair Value Future Oct 2022   \n",
       "3                       NYMEX WTI Light Sweet Crude Oil Calendar Swap US Monthly  Aug 2022   \n",
       "4                               ICE WTI Crude Electronic Energy Fair Value Future May 2022   \n",
       "\n",
       "        RIC ExpiryDate RCSUnderlyingProductLeaf  \n",
       "0  CLCALQH3 2022-12-31                Crude Oil  \n",
       "1   LCOFVX2 2022-09-30              Brent Crude  \n",
       "2   ISCFVV2 2022-09-23                Crude Oil  \n",
       "3  CLCALMQ2 2022-07-31                Crude Oil  \n",
       "4  WTCLFVK2 2022-04-19     US Light Sweet Crude  "
      ]
     },
     "execution_count": 21,
     "metadata": {},
     "output_type": "execute_result"
    }
   ],
   "source": [
    "rd.discovery.search(\n",
    "    filter = f\"RCSUnderlyingProductName xeq 'Energy' and \\\n",
    "               SearchAllCategoryv3 eq 'Commodities' and \\\n",
    "               RCSAssetCategoryName eq 'Derivative\\Future' and RCSUnderlyingProductName eq 'Crude Oil' and \\\n",
    "               ExchangeName xeq 'Source is a Refinitiv Contributor' and {date_range}\",\n",
    "    order_by = \"ExpiryDate desc\",\n",
    "    top = 30,\n",
    "    select = \"DTSubjectName, RIC, ExpiryDate, RCSUnderlyingProductLeaf\",\n",
    ")"
   ]
  },
  {
   "cell_type": "markdown",
   "metadata": {},
   "source": [
    "#### Example - Expired Electricity Futures in the last year"
   ]
  },
  {
   "cell_type": "code",
   "execution_count": 22,
   "metadata": {},
   "outputs": [
    {
     "data": {
      "text/html": [
       "<div>\n",
       "<style scoped>\n",
       "    .dataframe tbody tr th:only-of-type {\n",
       "        vertical-align: middle;\n",
       "    }\n",
       "\n",
       "    .dataframe tbody tr th {\n",
       "        vertical-align: top;\n",
       "    }\n",
       "\n",
       "    .dataframe thead th {\n",
       "        text-align: right;\n",
       "    }\n",
       "</style>\n",
       "<table border=\"1\" class=\"dataframe\">\n",
       "  <thead>\n",
       "    <tr style=\"text-align: right;\">\n",
       "      <th></th>\n",
       "      <th>DTSubjectName</th>\n",
       "      <th>RIC</th>\n",
       "      <th>ExpiryDate</th>\n",
       "      <th>RCSUnderlyingProductLeaf</th>\n",
       "    </tr>\n",
       "  </thead>\n",
       "  <tbody>\n",
       "    <tr>\n",
       "      <th>0</th>\n",
       "      <td>Power Nordic Tallinn Fair Value Continuation 45</td>\n",
       "      <td>TRTALBFVDc45</td>\n",
       "      <td>2023-02-20</td>\n",
       "      <td>Power</td>\n",
       "    </tr>\n",
       "    <tr>\n",
       "      <th>1</th>\n",
       "      <td>TR TAL FV W7</td>\n",
       "      <td>TRTALBFVWc7</td>\n",
       "      <td>2023-02-19</td>\n",
       "      <td>Power</td>\n",
       "    </tr>\n",
       "    <tr>\n",
       "      <th>2</th>\n",
       "      <td>Power Nordic Tallinn Fair Value Continuation 44</td>\n",
       "      <td>TRTALBFVDc44</td>\n",
       "      <td>2023-02-19</td>\n",
       "      <td>Power</td>\n",
       "    </tr>\n",
       "    <tr>\n",
       "      <th>3</th>\n",
       "      <td>Power Nordic Tallinn Fair Value Continuation 43</td>\n",
       "      <td>TRTALBFVDc43</td>\n",
       "      <td>2023-02-18</td>\n",
       "      <td>Power</td>\n",
       "    </tr>\n",
       "    <tr>\n",
       "      <th>4</th>\n",
       "      <td>Power Nordic Tallinn Fair Value Weekly Continuation 1</td>\n",
       "      <td>TRTALBFVWc1</td>\n",
       "      <td>2023-01-08</td>\n",
       "      <td>Power</td>\n",
       "    </tr>\n",
       "    <tr>\n",
       "      <th>5</th>\n",
       "      <td>Power Nordic  Tallinn Fair Value Weekly Continuation 0</td>\n",
       "      <td>TRTALBFVWc0</td>\n",
       "      <td>2023-01-08</td>\n",
       "      <td>Power</td>\n",
       "    </tr>\n",
       "    <tr>\n",
       "      <th>6</th>\n",
       "      <td>ICE-US FCOJ-A Futures Electronic Commodity Fair Value Future Nov 2022</td>\n",
       "      <td>OJFVX2</td>\n",
       "      <td>2022-11-09</td>\n",
       "      <td>Power</td>\n",
       "    </tr>\n",
       "  </tbody>\n",
       "</table>\n",
       "</div>"
      ],
      "text/plain": [
       "                                                           DTSubjectName  \\\n",
       "0                        Power Nordic Tallinn Fair Value Continuation 45   \n",
       "1                                                           TR TAL FV W7   \n",
       "2                        Power Nordic Tallinn Fair Value Continuation 44   \n",
       "3                        Power Nordic Tallinn Fair Value Continuation 43   \n",
       "4                  Power Nordic Tallinn Fair Value Weekly Continuation 1   \n",
       "5                 Power Nordic  Tallinn Fair Value Weekly Continuation 0   \n",
       "6  ICE-US FCOJ-A Futures Electronic Commodity Fair Value Future Nov 2022   \n",
       "\n",
       "            RIC ExpiryDate RCSUnderlyingProductLeaf  \n",
       "0  TRTALBFVDc45 2023-02-20                    Power  \n",
       "1   TRTALBFVWc7 2023-02-19                    Power  \n",
       "2  TRTALBFVDc44 2023-02-19                    Power  \n",
       "3  TRTALBFVDc43 2023-02-18                    Power  \n",
       "4   TRTALBFVWc1 2023-01-08                    Power  \n",
       "5   TRTALBFVWc0 2023-01-08                    Power  \n",
       "6        OJFVX2 2022-11-09                    Power  "
      ]
     },
     "execution_count": 22,
     "metadata": {},
     "output_type": "execute_result"
    }
   ],
   "source": [
    "rd.discovery.search(\n",
    "    filter = f\"SearchAllCategoryv3 eq 'Commodities' and \\\n",
    "               RCSUnderlyingProductName eq 'Power' and \\\n",
    "               ExchangeName xeq 'Source is a Refinitiv Contributor' and {date_range}\",\n",
    "    order_by = \"ExpiryDate desc\",\n",
    "    top = 30,\n",
    "    select = \"DTSubjectName, RIC, ExpiryDate, RCSUnderlyingProductLeaf\"\n",
    ")"
   ]
  },
  {
   "cell_type": "code",
   "execution_count": 23,
   "metadata": {},
   "outputs": [],
   "source": [
    "rd.close_session()"
   ]
  },
  {
   "cell_type": "code",
   "execution_count": null,
   "metadata": {},
   "outputs": [],
   "source": []
  }
 ],
 "metadata": {
  "kernelspec": {
   "display_name": "Python 3 (ipykernel)",
   "language": "python",
   "name": "python3"
  },
  "language_info": {
   "codemirror_mode": {
    "name": "ipython",
    "version": 3
   },
   "file_extension": ".py",
   "mimetype": "text/x-python",
   "name": "python",
   "nbconvert_exporter": "python",
   "pygments_lexer": "ipython3",
   "version": "3.10.8"
  }
 },
 "nbformat": 4,
 "nbformat_minor": 4
}
