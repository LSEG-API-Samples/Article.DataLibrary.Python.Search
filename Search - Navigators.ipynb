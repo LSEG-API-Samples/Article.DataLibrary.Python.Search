{
 "cells": [
  {
   "cell_type": "markdown",
   "metadata": {},
   "source": [
    "## Navigators\n",
    "Navigators provide the ability to drill into the result set providing a summary of the distribution.  They are particularly useful when you are interested in gathering the domain of values for a particular Property.  Navigators can be used against a specific View, used in conjunction with either a query, a filter or both.  Navigators can be simple or very powerful, but provide a very useful way to capture results in logical buckets.  "
   ]
  },
  {
   "cell_type": "code",
   "execution_count": 1,
   "metadata": {},
   "outputs": [
    {
     "data": {
      "text/plain": [
       "<refinitiv.data.session.Definition object at 0x2225ed3f400 {name='default'}>"
      ]
     },
     "execution_count": 1,
     "metadata": {},
     "output_type": "execute_result"
    }
   ],
   "source": [
    "import refinitiv.data as rd\n",
    "from refinitiv.data.content import search\n",
    "import pandas as pd\n",
    "import datetime as dt\n",
    "import dateutil.relativedelta\n",
    "\n",
    "# Default session - desktop\n",
    "rd.open_session(app_key='Your API Key here')"
   ]
  },
  {
   "cell_type": "code",
   "execution_count": 2,
   "metadata": {},
   "outputs": [
    {
     "data": {
      "text/plain": [
       "'1.0.0b9'"
      ]
     },
     "execution_count": 2,
     "metadata": {},
     "output_type": "execute_result"
    }
   ],
   "source": [
    "pd.set_option('display.max_colwidth', 140)\n",
    "rd.__version__"
   ]
  },
  {
   "cell_type": "markdown",
   "metadata": {},
   "source": [
    "#### Example - Property values\n",
    "The most basic usage of navigators is to determine the available values within a given Property.  For example, when searching for assets, we may want to narrow down the specific country an asset is traded in.  We can determine the available countries to work with."
   ]
  },
  {
   "cell_type": "code",
   "execution_count": 3,
   "metadata": {},
   "outputs": [
    {
     "data": {
      "text/plain": [
       "[{'Label': 'United States', 'Count': 12921436},\n",
       " {'Label': 'Eurobond', 'Count': 4250714},\n",
       " {'Label': 'China (Mainland)', 'Count': 1282061},\n",
       " {'Label': 'Colombia', 'Count': 1063339},\n",
       " {'Label': 'South Korea', 'Count': 568176},\n",
       " {'Label': 'Germany', 'Count': 485007},\n",
       " {'Label': 'Canada', 'Count': 411919},\n",
       " {'Label': 'France', 'Count': 249568},\n",
       " {'Label': 'India', 'Count': 198446},\n",
       " {'Label': 'Japan', 'Count': 165052},\n",
       " {'Label': 'Italy', 'Count': 135127},\n",
       " {'Label': 'Chile', 'Count': 131491},\n",
       " {'Label': 'Australia', 'Count': 105528},\n",
       " {'Label': 'Brazil', 'Count': 67149},\n",
       " {'Label': 'Switzerland', 'Count': 66553},\n",
       " {'Label': 'Spain', 'Count': 62379},\n",
       " {'Label': 'Russia', 'Count': 59183},\n",
       " {'Label': 'Austria', 'Count': 58373},\n",
       " {'Label': 'Norway', 'Count': 57720},\n",
       " {'Label': 'United Kingdom', 'Count': 55412}]"
      ]
     },
     "execution_count": 3,
     "metadata": {},
     "output_type": "execute_result"
    }
   ],
   "source": [
    "# The following will list the countries assets are listed.  We can use this output to filter based on a specific country.\n",
    "response = search.Definition(\n",
    "    top = 0,\n",
    "    navigators = \"RCSCountryLeaf(buckets:20)\"   # Show the top 20\n",
    ").get_data()\n",
    "response.data.raw[\"Navigators\"][\"RCSCountryLeaf\"][\"Buckets\"]"
   ]
  },
  {
   "cell_type": "markdown",
   "metadata": {},
   "source": [
    "#### Example - Vessels\n",
    "If I want to perform a basic search for tankers and capture the Hull Types, I could start with the following basic query:"
   ]
  },
  {
   "cell_type": "code",
   "execution_count": 4,
   "metadata": {},
   "outputs": [
    {
     "data": {
      "text/html": [
       "<div>\n",
       "<style scoped>\n",
       "    .dataframe tbody tr th:only-of-type {\n",
       "        vertical-align: middle;\n",
       "    }\n",
       "\n",
       "    .dataframe tbody tr th {\n",
       "        vertical-align: top;\n",
       "    }\n",
       "\n",
       "    .dataframe thead th {\n",
       "        text-align: right;\n",
       "    }\n",
       "</style>\n",
       "<table border=\"1\" class=\"dataframe\">\n",
       "  <thead>\n",
       "    <tr style=\"text-align: right;\">\n",
       "      <th></th>\n",
       "      <th>DocumentTitle</th>\n",
       "      <th>HullType</th>\n",
       "    </tr>\n",
       "  </thead>\n",
       "  <tbody>\n",
       "    <tr>\n",
       "      <th>0</th>\n",
       "      <td>MOZAH, LNG Tanker, NAKILAT SHIPPING QATAR LTD, Gulf of Oman|Arabian Gulf Tanker Zone</td>\n",
       "      <td>Single Hull</td>\n",
       "    </tr>\n",
       "    <tr>\n",
       "      <th>1</th>\n",
       "      <td>UMM SLAL, Liquefied Natural Gas; LNG Tanker, NAKILAT SHIPPING QATAR LTD, Arabia Sea|Arabian Gulf Tanker Zone</td>\n",
       "      <td>Single Hull</td>\n",
       "    </tr>\n",
       "    <tr>\n",
       "      <th>2</th>\n",
       "      <td>BU SAMRA, Liquefied Natural Gas; LNG Tanker, NAKILAT SHIPPING QATAR LTD, South China Sea|Thailand Tanker Zone</td>\n",
       "      <td>Single Hull</td>\n",
       "    </tr>\n",
       "    <tr>\n",
       "      <th>3</th>\n",
       "      <td>AL MAYEDA, LNG Tanker, STASCO SHIP MANAGEMENT, South China Sea|Thailand Tanker Zone</td>\n",
       "      <td>Single Hull</td>\n",
       "    </tr>\n",
       "    <tr>\n",
       "      <th>4</th>\n",
       "      <td>MEKAINES, LNG Tanker, NAKILAT SHIPPING QATAR LTD, Gulf of Oman|Arabian Gulf Tanker Zone</td>\n",
       "      <td>Single Hull</td>\n",
       "    </tr>\n",
       "    <tr>\n",
       "      <th>...</th>\n",
       "      <td>...</td>\n",
       "      <td>...</td>\n",
       "    </tr>\n",
       "    <tr>\n",
       "      <th>9995</th>\n",
       "      <td>TONG ZHOU JI 186, Other Tanker, Jiangsu|Shanghai Tanker Zone|Yangtze River|China (Mainland)</td>\n",
       "      <td>&lt;NA&gt;</td>\n",
       "    </tr>\n",
       "    <tr>\n",
       "      <th>9996</th>\n",
       "      <td>HAI TAI 1996, Other Tanker, South China Sea|Canton Tanker Zone</td>\n",
       "      <td>&lt;NA&gt;</td>\n",
       "    </tr>\n",
       "    <tr>\n",
       "      <th>9997</th>\n",
       "      <td>XIN HAI YUN HAO, Other Tanker, Zhejiang|East China Sea|Shanghai Tanker Zone|China (Mainland)</td>\n",
       "      <td>&lt;NA&gt;</td>\n",
       "    </tr>\n",
       "    <tr>\n",
       "      <th>9998</th>\n",
       "      <td>PINGNANYONGJIA808, Other Tanker, South China Sea|Canton Tanker Zone</td>\n",
       "      <td>&lt;NA&gt;</td>\n",
       "    </tr>\n",
       "    <tr>\n",
       "      <th>9999</th>\n",
       "      <td>GUI GUI PING HUO8028, Other Tanker, South China Sea|Canton Tanker Zone</td>\n",
       "      <td>&lt;NA&gt;</td>\n",
       "    </tr>\n",
       "  </tbody>\n",
       "</table>\n",
       "<p>10000 rows × 2 columns</p>\n",
       "</div>"
      ],
      "text/plain": [
       "                                                                                                      DocumentTitle  \\\n",
       "0                              MOZAH, LNG Tanker, NAKILAT SHIPPING QATAR LTD, Gulf of Oman|Arabian Gulf Tanker Zone   \n",
       "1      UMM SLAL, Liquefied Natural Gas; LNG Tanker, NAKILAT SHIPPING QATAR LTD, Arabia Sea|Arabian Gulf Tanker Zone   \n",
       "2     BU SAMRA, Liquefied Natural Gas; LNG Tanker, NAKILAT SHIPPING QATAR LTD, South China Sea|Thailand Tanker Zone   \n",
       "3                               AL MAYEDA, LNG Tanker, STASCO SHIP MANAGEMENT, South China Sea|Thailand Tanker Zone   \n",
       "4                           MEKAINES, LNG Tanker, NAKILAT SHIPPING QATAR LTD, Gulf of Oman|Arabian Gulf Tanker Zone   \n",
       "...                                                                                                             ...   \n",
       "9995                    TONG ZHOU JI 186, Other Tanker, Jiangsu|Shanghai Tanker Zone|Yangtze River|China (Mainland)   \n",
       "9996                                                 HAI TAI 1996, Other Tanker, South China Sea|Canton Tanker Zone   \n",
       "9997                   XIN HAI YUN HAO, Other Tanker, Zhejiang|East China Sea|Shanghai Tanker Zone|China (Mainland)   \n",
       "9998                                            PINGNANYONGJIA808, Other Tanker, South China Sea|Canton Tanker Zone   \n",
       "9999                                         GUI GUI PING HUO8028, Other Tanker, South China Sea|Canton Tanker Zone   \n",
       "\n",
       "         HullType  \n",
       "0     Single Hull  \n",
       "1     Single Hull  \n",
       "2     Single Hull  \n",
       "3     Single Hull  \n",
       "4     Single Hull  \n",
       "...           ...  \n",
       "9995         <NA>  \n",
       "9996         <NA>  \n",
       "9997         <NA>  \n",
       "9998         <NA>  \n",
       "9999         <NA>  \n",
       "\n",
       "[10000 rows x 2 columns]"
      ]
     },
     "execution_count": 4,
     "metadata": {},
     "output_type": "execute_result"
    }
   ],
   "source": [
    "response=search.Definition(\n",
    "    view = search.SearchViews.VESSEL_PHYSICAL_ASSETS,\n",
    "    query = \"tanker\",\n",
    "    select = \"DocumentTitle, HullType\",\n",
    "    top = 10000\n",
    ").get_data()\n",
    "response.data.df"
   ]
  },
  {
   "cell_type": "markdown",
   "metadata": {},
   "source": [
    "Here, we can see a list of the different tankers and their Hull Types. Within this collection, while I can clearly see there are different Hull Types list, i.e. \"Single\", \"Double\", \"NA\", etc - I'm also seeing duplicates.  Instead of going through the effort to process the above result to pull out the unique list of Hull Types, I will instead use a Navigator - which was designed to do this work for me.\n",
    "\n",
    "Using the above query, I will apply a Navigator by selecting the 'HullType' Property.  What this does is instruct search to bucket all unique Hull Types and summarize the total found for each. To capture the results, I will need to utilize the Content Layer API call."
   ]
  },
  {
   "cell_type": "code",
   "execution_count": 5,
   "metadata": {},
   "outputs": [
    {
     "data": {
      "text/plain": [
       "[{'Label': 'Double Hull', 'Count': 16699},\n",
       " {'Label': 'Single Hull', 'Count': 5432}]"
      ]
     },
     "execution_count": 5,
     "metadata": {},
     "output_type": "execute_result"
    }
   ],
   "source": [
    "response=search.Definition(\n",
    "    view = search.SearchViews.VESSEL_PHYSICAL_ASSETS,\n",
    "    query = \"tanker\",\n",
    "    top = 0,       # I'm not interested in the hits, only details within the navigator response section\n",
    "    navigators = \"HullType\"\n",
    ").get_data()\n",
    "response.data.raw[\"Navigators\"][\"HullType\"][\"Buckets\"]"
   ]
  },
  {
   "cell_type": "markdown",
   "metadata": {},
   "source": [
    "#### Example - Listing of exchanges per asset category\n",
    "In the following example, I'm going to list the top 3 asset types in Canada and for each, display the top 2 exchanges trading on those assets."
   ]
  },
  {
   "cell_type": "code",
   "execution_count": 16,
   "metadata": {},
   "outputs": [],
   "source": [
    "response=search.Definition(\n",
    "    view = search.SearchViews.EQUITY_QUOTES,\n",
    "    filter = \"AssetState eq 'AC' and RCSExchangeCountryLeaf eq 'Canada'\",    # Filter on all active (AC) assets within Canada\n",
    "    top = 0,\n",
    "    navigators = \"RCSAssetCategoryLeaf(buckets:3, sub:ExchangeName(buckets:2))\"  #  For the top 3 categories, show the top 2 exchanges\n",
    ").get_data()"
   ]
  },
  {
   "cell_type": "code",
   "execution_count": 17,
   "metadata": {},
   "outputs": [
    {
     "name": "stdout",
     "output_type": "stream",
     "text": [
      "1. Equity Cash Option\n",
      "\t1. Montreal Options Exchange (100072)\n",
      "\t2. Refinitiv (47872)\n",
      "2. Ordinary Share\n",
      "\t1. Aequitas NEO-L (3505)\n",
      "\t2. Aequitas NEO-N (3504)\n",
      "3. Equity Future Spread\n",
      "\t1. Montreal Exchange (5587)\n",
      "\t2. Montreal Options Exchange (17)\n"
     ]
    }
   ],
   "source": [
    "# Pretty display of the listing\n",
    "rank = 1\n",
    "for asset in response.data.raw[\"Navigators\"][\"RCSAssetCategoryLeaf\"][\"Buckets\"]:\n",
    "    print(f'{rank}. {asset[\"Label\"]}')\n",
    "    exchangeRank = 1\n",
    "    for exchange in asset[\"ExchangeName\"][\"Buckets\"]:\n",
    "        print(f'\\t{exchangeRank}. {exchange[\"Label\"]} ({exchange[\"Count\"]})')\n",
    "        exchangeRank += 1\n",
    "    rank += 1"
   ]
  },
  {
   "cell_type": "markdown",
   "metadata": {},
   "source": [
    "#### Example - Outstanding Government debt in the last 3 months.\n",
    "In this example, I will be using some nested expressions to summarize categories within the buckets I collect.  Specifically, I'm looking for government debt ('govt') issued any time after 3-months ago using the following filter:\n",
    "- \"DBType eq 'govt' and IssueDate gt today-3months\" (DBType identifies government debt)\n",
    "    \n",
    "Based on the result set, I want categorize or create buckets (top 5) based on the domicile of the issuer.  For each domicile, sum the outstanding debt and also include the maximum coupon rate for each one.\n",
    "- RCSDomicileLeaf(buckets:5, desc:sum_FaceOutstandingUSD, calc:max_CouponRate)"
   ]
  },
  {
   "cell_type": "code",
   "execution_count": 18,
   "metadata": {},
   "outputs": [],
   "source": [
    "# Get date N months ago\n",
    "months = 3\n",
    "date = dt.datetime.today() - dateutil.relativedelta.relativedelta(months=months)"
   ]
  },
  {
   "cell_type": "code",
   "execution_count": 19,
   "metadata": {},
   "outputs": [
    {
     "data": {
      "text/plain": [
       "[{'Label': 'United States',\n",
       "  'Count': 75,\n",
       "  'max_CouponRate': 2.375,\n",
       "  'sum_FaceOutstandingUSD': 2374169740400.0},\n",
       " {'Label': 'Japan',\n",
       "  'Count': 56,\n",
       "  'max_CouponRate': 0.7,\n",
       "  'sum_FaceOutstandingUSD': 1118353989767.0},\n",
       " {'Label': 'China (Mainland)',\n",
       "  'Count': 26,\n",
       "  'max_CouponRate': 3.52,\n",
       "  'sum_FaceOutstandingUSD': 196858815245.0},\n",
       " {'Label': 'Singapore',\n",
       "  'Count': 42,\n",
       "  'max_CouponRate': 0.786,\n",
       "  'sum_FaceOutstandingUSD': 169983117847.0},\n",
       " {'Label': 'Hong Kong',\n",
       "  'Count': 35,\n",
       "  'max_CouponRate': 0.94,\n",
       "  'sum_FaceOutstandingUSD': 119726393264.0}]"
      ]
     },
     "execution_count": 19,
     "metadata": {},
     "output_type": "execute_result"
    }
   ],
   "source": [
    "# Retrieve the top 5 outstanding government debt in the last 3 months\n",
    "response = search.Definition(\n",
    "    view = search.SearchViews.GOV_CORP_INSTRUMENTS,\n",
    "    filter = \"DbType eq 'govt' and IssueDate gt \" + date.strftime(\"%Y-%m-%d\"),\n",
    "    top = 0,\n",
    "    navigators = \"RCSDomicileLeaf(buckets:5, desc:sum_FaceOutstandingUSD, calc:max_CouponRate)\"\n",
    ").get_data()\n",
    "response.data.raw[\"Navigators\"][\"RCSDomicileLeaf\"][\"Buckets\"]"
   ]
  },
  {
   "cell_type": "code",
   "execution_count": null,
   "metadata": {},
   "outputs": [],
   "source": []
  }
 ],
 "metadata": {
  "kernelspec": {
   "display_name": "Python 3 (ipykernel)",
   "language": "python",
   "name": "python3"
  },
  "language_info": {
   "codemirror_mode": {
    "name": "ipython",
    "version": 3
   },
   "file_extension": ".py",
   "mimetype": "text/x-python",
   "name": "python",
   "nbconvert_exporter": "python",
   "pygments_lexer": "ipython3",
   "version": "3.9.4"
  }
 },
 "nbformat": 4,
 "nbformat_minor": 4
}
