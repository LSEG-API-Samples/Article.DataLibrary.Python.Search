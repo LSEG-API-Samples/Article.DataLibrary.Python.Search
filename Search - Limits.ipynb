{
 "cells": [
  {
   "cell_type": "markdown",
   "metadata": {},
   "source": [
    "## Limits\n",
    "RDP Search does impose limits on the size of the result set when requesting for large data sets.  The following examples provide some useful techniques when dealing with results reaching the upper limits imposed by the backend."
   ]
  },
  {
   "cell_type": "code",
   "execution_count": 1,
   "metadata": {},
   "outputs": [
    {
     "data": {
      "text/plain": [
       "<refinitiv.data.session.Definition object at 0x188e2421220 {name='default'}>"
      ]
     },
     "execution_count": 1,
     "metadata": {},
     "output_type": "execute_result"
    }
   ],
   "source": [
    "import refinitiv.data as rd\n",
    "from refinitiv.data.content import search\n",
    "import pandas as pd\n",
    "\n",
    "# Default session - desktop\n",
    "rd.open_session(app_key='Your API Key here')"
   ]
  },
  {
   "cell_type": "code",
   "execution_count": null,
   "metadata": {},
   "outputs": [
    {
     "data": {
      "text/plain": [
       "'1.0.0b9'"
      ]
     },
     "execution_count": 2,
     "metadata": {},
     "output_type": "execute_result"
    }
   ],
   "source": [
    "pd.set_option('display.max_colwidth', 140)\n",
    "rd.__version__"
   ]
  },
  {
   "cell_type": "markdown",
   "metadata": {},
   "source": [
    "#### Grouping\n",
    "There may be instances where the result set contains groups of values for properties based on your request.  For example, if I'm interested in retrieving all exchanges within the USA, I can execute this request:"
   ]
  },
  {
   "cell_type": "code",
   "execution_count": 5,
   "metadata": {},
   "outputs": [
    {
     "data": {
      "text/plain": [
       "4093040"
      ]
     },
     "execution_count": 5,
     "metadata": {},
     "output_type": "execute_result"
    }
   ],
   "source": [
    "response = search.Definition(\n",
    "    view = search.SearchViews.EQUITY_QUOTES,\n",
    "    filter = \"RCSExchangeCountryLeaf eq 'United States'\",\n",
    "    top = 10000,\n",
    "    select = \"ExchangeCode, RIC\"\n",
    ").get_data()\n",
    "response.total"
   ]
  },
  {
   "cell_type": "code",
   "execution_count": 6,
   "metadata": {},
   "outputs": [
    {
     "data": {
      "text/html": [
       "<div>\n",
       "<style scoped>\n",
       "    .dataframe tbody tr th:only-of-type {\n",
       "        vertical-align: middle;\n",
       "    }\n",
       "\n",
       "    .dataframe tbody tr th {\n",
       "        vertical-align: top;\n",
       "    }\n",
       "\n",
       "    .dataframe thead th {\n",
       "        text-align: right;\n",
       "    }\n",
       "</style>\n",
       "<table border=\"1\" class=\"dataframe\">\n",
       "  <thead>\n",
       "    <tr style=\"text-align: right;\">\n",
       "      <th></th>\n",
       "      <th>ExchangeCode</th>\n",
       "      <th>RIC</th>\n",
       "    </tr>\n",
       "  </thead>\n",
       "  <tbody>\n",
       "    <tr>\n",
       "      <th>0</th>\n",
       "      <td>IOM</td>\n",
       "      <td>EScv1</td>\n",
       "    </tr>\n",
       "    <tr>\n",
       "      <th>1</th>\n",
       "      <td>IOM</td>\n",
       "      <td>NQcv1</td>\n",
       "    </tr>\n",
       "    <tr>\n",
       "      <th>2</th>\n",
       "      <td>IOM</td>\n",
       "      <td>ESc1</td>\n",
       "    </tr>\n",
       "    <tr>\n",
       "      <th>3</th>\n",
       "      <td>IOM</td>\n",
       "      <td>NQc1</td>\n",
       "    </tr>\n",
       "    <tr>\n",
       "      <th>4</th>\n",
       "      <td>CBT</td>\n",
       "      <td>YMc1</td>\n",
       "    </tr>\n",
       "    <tr>\n",
       "      <th>...</th>\n",
       "      <td>...</td>\n",
       "      <td>...</td>\n",
       "    </tr>\n",
       "    <tr>\n",
       "      <th>9995</th>\n",
       "      <td>PNK</td>\n",
       "      <td>CLLA.PK</td>\n",
       "    </tr>\n",
       "    <tr>\n",
       "      <th>9996</th>\n",
       "      <td>PNK</td>\n",
       "      <td>PBEV.PK</td>\n",
       "    </tr>\n",
       "    <tr>\n",
       "      <th>9997</th>\n",
       "      <td>PNK</td>\n",
       "      <td>BDYS.PK</td>\n",
       "    </tr>\n",
       "    <tr>\n",
       "      <th>9998</th>\n",
       "      <td>PNK</td>\n",
       "      <td>MGGI.PK</td>\n",
       "    </tr>\n",
       "    <tr>\n",
       "      <th>9999</th>\n",
       "      <td>PNK</td>\n",
       "      <td>NWMH.PK</td>\n",
       "    </tr>\n",
       "  </tbody>\n",
       "</table>\n",
       "<p>10000 rows × 2 columns</p>\n",
       "</div>"
      ],
      "text/plain": [
       "     ExchangeCode      RIC\n",
       "0             IOM    EScv1\n",
       "1             IOM    NQcv1\n",
       "2             IOM     ESc1\n",
       "3             IOM     NQc1\n",
       "4             CBT     YMc1\n",
       "...           ...      ...\n",
       "9995          PNK  CLLA.PK\n",
       "9996          PNK  PBEV.PK\n",
       "9997          PNK  BDYS.PK\n",
       "9998          PNK  MGGI.PK\n",
       "9999          PNK  NWMH.PK\n",
       "\n",
       "[10000 rows x 2 columns]"
      ]
     },
     "execution_count": 6,
     "metadata": {},
     "output_type": "execute_result"
    }
   ],
   "source": [
    "response.data.df"
   ]
  },
  {
   "cell_type": "markdown",
   "metadata": {},
   "source": [
    "In the above example, you can see the total available documents is over 4,000,000.  However, due to the nature of the data set, the exchange codes have been repeated which brought back the upper limit of documents within the result set.  **Note**: At the time of this writing, the upper limit has been defined as 10000 result sets.\n",
    "\n",
    "Instead of performing multiple calls and pulling out the unique codes within each result set, I can apply the grouping features offered by Search to significantly reduce the result set returned.  For example:"
   ]
  },
  {
   "cell_type": "code",
   "execution_count": 5,
   "metadata": {},
   "outputs": [
    {
     "data": {
      "text/html": [
       "<div>\n",
       "<style scoped>\n",
       "    .dataframe tbody tr th:only-of-type {\n",
       "        vertical-align: middle;\n",
       "    }\n",
       "\n",
       "    .dataframe tbody tr th {\n",
       "        vertical-align: top;\n",
       "    }\n",
       "\n",
       "    .dataframe thead th {\n",
       "        text-align: right;\n",
       "    }\n",
       "</style>\n",
       "<table border=\"1\" class=\"dataframe\">\n",
       "  <thead>\n",
       "    <tr style=\"text-align: right;\">\n",
       "      <th></th>\n",
       "      <th>ExchangeCode</th>\n",
       "    </tr>\n",
       "  </thead>\n",
       "  <tbody>\n",
       "    <tr>\n",
       "      <th>0</th>\n",
       "      <td>IOM</td>\n",
       "    </tr>\n",
       "    <tr>\n",
       "      <th>1</th>\n",
       "      <td>CBT</td>\n",
       "    </tr>\n",
       "    <tr>\n",
       "      <th>2</th>\n",
       "      <td>CBF</td>\n",
       "    </tr>\n",
       "    <tr>\n",
       "      <th>3</th>\n",
       "      <td>IMM</td>\n",
       "    </tr>\n",
       "    <tr>\n",
       "      <th>4</th>\n",
       "      <td>NSQ</td>\n",
       "    </tr>\n",
       "    <tr>\n",
       "      <th>...</th>\n",
       "      <td>...</td>\n",
       "    </tr>\n",
       "    <tr>\n",
       "      <th>144</th>\n",
       "      <td>CC3</td>\n",
       "    </tr>\n",
       "    <tr>\n",
       "      <th>145</th>\n",
       "      <td>CCE</td>\n",
       "    </tr>\n",
       "    <tr>\n",
       "      <th>146</th>\n",
       "      <td>CSC</td>\n",
       "    </tr>\n",
       "    <tr>\n",
       "      <th>147</th>\n",
       "      <td>HAM</td>\n",
       "    </tr>\n",
       "    <tr>\n",
       "      <th>148</th>\n",
       "      <td>NYC</td>\n",
       "    </tr>\n",
       "  </tbody>\n",
       "</table>\n",
       "<p>149 rows × 1 columns</p>\n",
       "</div>"
      ],
      "text/plain": [
       "    ExchangeCode\n",
       "0            IOM\n",
       "1            CBT\n",
       "2            CBF\n",
       "3            IMM\n",
       "4            NSQ\n",
       "..           ...\n",
       "144          CC3\n",
       "145          CCE\n",
       "146          CSC\n",
       "147          HAM\n",
       "148          NYC\n",
       "\n",
       "[149 rows x 1 columns]"
      ]
     },
     "execution_count": 5,
     "metadata": {},
     "output_type": "execute_result"
    }
   ],
   "source": [
    "response=search.Definition(\n",
    "    view = search.SearchViews.EQUITY_QUOTES,\n",
    "    filter = \"RCSExchangeCountryLeaf eq 'United States'\",\n",
    "    top = 10000,\n",
    "    select = \"ExchangeCode\",\n",
    "    group_by = \"ExchangeCode\",    # Exchange codes can be grouped\n",
    "    group_count = 1               # Then limited to 1 for each to create uniqueness\n",
    ").get_data()\n",
    "response.data.df"
   ]
  },
  {
   "cell_type": "markdown",
   "metadata": {},
   "source": [
    "As you can see, I've significantly reduced the result set by grouping which now allows the result set using a single API call.  Using the 'grouping' technique to pull out the unique exchange codes is very useful if you wish to return many other properties as part of your results.  However, if you are strictly after the list of exchange codes, the preferred approach is to use Navigators."
   ]
  },
  {
   "cell_type": "markdown",
   "metadata": {},
   "source": [
    "#### Navigators\n",
    "If the goal of your search is to simply capture the list of exchange codes, then the preferred approach in this case is to use Navigators.  A navigator allows the ability to categorize and summarize properties within the result set.  For example, I can provide a simple navigator where I can limit the number of buckets, or results, within the result set.  You can do this using the following request:"
   ]
  },
  {
   "cell_type": "code",
   "execution_count": 19,
   "metadata": {},
   "outputs": [],
   "source": [
    "response=search.Definition(\n",
    "    view = search.SearchViews.EQUITY_QUOTES,\n",
    "    filter = \"RCSExchangeCountryLeaf eq 'United States'\",\n",
    "    top = 0,\n",
    "    navigators = \"ExchangeCode(buckets:300)\"   # Limit the results\n",
    ").get_data()"
   ]
  },
  {
   "cell_type": "code",
   "execution_count": 20,
   "metadata": {},
   "outputs": [
    {
     "name": "stdout",
     "output_type": "stream",
     "text": [
      "Total exchange codes found: 149\n"
     ]
    }
   ],
   "source": [
    "codes=response.data.raw[\"Navigators\"][\"ExchangeCode\"][\"Buckets\"]\n",
    "print(f'Total exchange codes found: {len(codes)}')"
   ]
  },
  {
   "cell_type": "code",
   "execution_count": 21,
   "metadata": {},
   "outputs": [
    {
     "data": {
      "text/plain": [
       "[{'Label': 'OPQ', 'Count': 1507604},\n",
       " {'Label': 'ONE', 'Count': 1441126},\n",
       " {'Label': 'IOM', 'Count': 375379},\n",
       " {'Label': 'PNK', 'Count': 71492},\n",
       " {'Label': 'CBT', 'Count': 64209},\n",
       " {'Label': 'CME', 'Count': 38056},\n",
       " {'Label': 'OBB', 'Count': 32916},\n",
       " {'Label': 'OTC', 'Count': 24817},\n",
       " {'Label': 'BOS', 'Count': 19401},\n",
       " {'Label': 'THM', 'Count': 18975},\n",
       " {'Label': 'XPH', 'Count': 16758},\n",
       " {'Label': 'MID', 'Count': 15683},\n",
       " {'Label': 'PSE', 'Count': 15611},\n",
       " {'Label': 'NYS', 'Count': 15223},\n",
       " {'Label': 'CIN', 'Count': 13663},\n",
       " {'Label': 'NYQ', 'Count': 13660},\n",
       " {'Label': 'NTV', 'Count': 13421},\n",
       " {'Label': 'BZX', 'Count': 13313},\n",
       " {'Label': 'BYX', 'Count': 13312},\n",
       " {'Label': 'NMS', 'Count': 11690},\n",
       " {'Label': 'BT1', 'Count': 11582},\n",
       " {'Label': 'NAS', 'Count': 11427},\n",
       " {'Label': 'ARC', 'Count': 11018},\n",
       " {'Label': 'IUS', 'Count': 10980},\n",
       " {'Label': 'CBO', 'Count': 10246},\n",
       " {'Label': 'WCB', 'Count': 9915},\n",
       " {'Label': 'NQT', 'Count': 9574},\n",
       " {'Label': 'ADC', 'Count': 9255},\n",
       " {'Label': 'ASE', 'Count': 8241},\n",
       " {'Label': 'BAT', 'Count': 7958},\n",
       " {'Label': 'NXB', 'Count': 7585},\n",
       " {'Label': 'DEA', 'Count': 7170},\n",
       " {'Label': 'DEX', 'Count': 7170},\n",
       " {'Label': 'BTY', 'Count': 7061},\n",
       " {'Label': 'CBF', 'Count': 6422},\n",
       " {'Label': 'NBN', 'Count': 5700},\n",
       " {'Label': 'IEX', 'Count': 5271},\n",
       " {'Label': 'BEX', 'Count': 5185},\n",
       " {'Label': 'GSX', 'Count': 4672},\n",
       " {'Label': 'SCC', 'Count': 4555},\n",
       " {'Label': 'MPO', 'Count': 4539},\n",
       " {'Label': 'SCB', 'Count': 4521},\n",
       " {'Label': 'GSB', 'Count': 4491},\n",
       " {'Label': 'ADS', 'Count': 4445},\n",
       " {'Label': 'ISS', 'Count': 4400},\n",
       " {'Label': 'ISJ', 'Count': 4329},\n",
       " {'Label': 'LCB', 'Count': 4323},\n",
       " {'Label': 'LTE', 'Count': 4265},\n",
       " {'Label': 'SCP', 'Count': 4260},\n",
       " {'Label': 'MMX', 'Count': 4258},\n",
       " {'Label': 'SCX', 'Count': 4209},\n",
       " {'Label': 'MPE', 'Count': 4203},\n",
       " {'Label': 'SCM', 'Count': 3859},\n",
       " {'Label': 'LCC', 'Count': 3770},\n",
       " {'Label': 'NAQ', 'Count': 3687},\n",
       " {'Label': 'SCZ', 'Count': 3683},\n",
       " {'Label': 'SDA', 'Count': 3503},\n",
       " {'Label': 'SCD', 'Count': 3502},\n",
       " {'Label': 'SCY', 'Count': 3482},\n",
       " {'Label': 'ADF', 'Count': 3432},\n",
       " {'Label': 'NSM', 'Count': 3430},\n",
       " {'Label': 'GSC', 'Count': 3420},\n",
       " {'Label': 'GSP', 'Count': 3409},\n",
       " {'Label': 'GSD', 'Count': 3404},\n",
       " {'Label': 'GSM', 'Count': 3404},\n",
       " {'Label': 'NSQ', 'Count': 3398},\n",
       " {'Label': 'LCX', 'Count': 3294},\n",
       " {'Label': 'NMQ', 'Count': 3194},\n",
       " {'Label': 'GCZ', 'Count': 3188},\n",
       " {'Label': 'LCP', 'Count': 3185},\n",
       " {'Label': 'GSA', 'Count': 3108},\n",
       " {'Label': 'SCA', 'Count': 3104},\n",
       " {'Label': 'SIE', 'Count': 3065},\n",
       " {'Label': 'GCD', 'Count': 3064},\n",
       " {'Label': 'GDA', 'Count': 3064},\n",
       " {'Label': 'GCY', 'Count': 3043},\n",
       " {'Label': 'SCN', 'Count': 2953},\n",
       " {'Label': 'ASQ', 'Count': 2738},\n",
       " {'Label': 'XMC', 'Count': 2678},\n",
       " {'Label': 'LTM', 'Count': 2676},\n",
       " {'Label': 'MPM', 'Count': 2623},\n",
       " {'Label': 'LCM', 'Count': 2459},\n",
       " {'Label': 'IES', 'Count': 2406},\n",
       " {'Label': 'GSN', 'Count': 2245},\n",
       " {'Label': 'GSW', 'Count': 2213},\n",
       " {'Label': 'LTS', 'Count': 1978},\n",
       " {'Label': 'XMS', 'Count': 1972},\n",
       " {'Label': 'MPS', 'Count': 1944},\n",
       " {'Label': 'LCZ', 'Count': 1919},\n",
       " {'Label': 'LCD', 'Count': 1738},\n",
       " {'Label': 'LDA', 'Count': 1738},\n",
       " {'Label': 'LCY', 'Count': 1702},\n",
       " {'Label': 'GSI', 'Count': 1660},\n",
       " {'Label': 'LCA', 'Count': 1521},\n",
       " {'Label': 'IEG', 'Count': 1394},\n",
       " {'Label': 'LCN', 'Count': 1338},\n",
       " {'Label': 'LCI', 'Count': 1324},\n",
       " {'Label': 'LTG', 'Count': 1266},\n",
       " {'Label': 'XMG', 'Count': 1265},\n",
       " {'Label': 'MPG', 'Count': 1249},\n",
       " {'Label': 'CFT', 'Count': 1235},\n",
       " {'Label': 'MGE', 'Count': 1045},\n",
       " {'Label': 'SCW', 'Count': 1005},\n",
       " {'Label': 'LCW', 'Count': 950},\n",
       " {'Label': 'NYF', 'Count': 926},\n",
       " {'Label': 'NYM', 'Count': 867},\n",
       " {'Label': 'SCI', 'Count': 782},\n",
       " {'Label': 'NYL', 'Count': 703},\n",
       " {'Label': 'PKN', 'Count': 585},\n",
       " {'Label': 'BBA', 'Count': 576},\n",
       " {'Label': 'IMM', 'Count': 558},\n",
       " {'Label': 'NBA', 'Count': 552},\n",
       " {'Label': 'PCQ', 'Count': 418},\n",
       " {'Label': 'CC3', 'Count': 370},\n",
       " {'Label': 'PKC', 'Count': 338},\n",
       " {'Label': 'EUS', 'Count': 199},\n",
       " {'Label': 'PKL', 'Count': 185},\n",
       " {'Label': 'QBB', 'Count': 158},\n",
       " {'Label': 'KBT', 'Count': 152},\n",
       " {'Label': 'BBM', 'Count': 92},\n",
       " {'Label': 'PBT', 'Count': 77},\n",
       " {'Label': 'FRX', 'Count': 65},\n",
       " {'Label': 'CMX', 'Count': 44},\n",
       " {'Label': 'NYC', 'Count': 29},\n",
       " {'Label': 'BTQ', 'Count': 23},\n",
       " {'Label': 'MSI', 'Count': 14},\n",
       " {'Label': 'DJI', 'Count': 13},\n",
       " {'Label': 'ICQ', 'Count': 13},\n",
       " {'Label': 'QXE', 'Count': 12},\n",
       " {'Label': 'AOE', 'Count': 9},\n",
       " {'Label': 'NSF', 'Count': 9},\n",
       " {'Label': 'CSC', 'Count': 8},\n",
       " {'Label': 'MKX', 'Count': 4},\n",
       " {'Label': 'WCQ', 'Count': 4},\n",
       " {'Label': 'HAM', 'Count': 3},\n",
       " {'Label': 'BOX', 'Count': 2},\n",
       " {'Label': 'EIN', 'Count': 2},\n",
       " {'Label': 'PAO', 'Count': 2},\n",
       " {'Label': 'PHO', 'Count': 2},\n",
       " {'Label': 'PQX', 'Count': 2},\n",
       " {'Label': 'QXP', 'Count': 2},\n",
       " {'Label': 'AOI', 'Count': 1},\n",
       " {'Label': 'CCE', 'Count': 1},\n",
       " {'Label': 'ELX', 'Count': 1},\n",
       " {'Label': 'ISO', 'Count': 1},\n",
       " {'Label': 'MXP', 'Count': 1},\n",
       " {'Label': 'NML', 'Count': 1},\n",
       " {'Label': 'NYQ|UCQ', 'Count': 1},\n",
       " {'Label': 'QXI', 'Count': 1}]"
      ]
     },
     "execution_count": 21,
     "metadata": {},
     "output_type": "execute_result"
    }
   ],
   "source": [
    "codes"
   ]
  },
  {
   "cell_type": "markdown",
   "metadata": {},
   "source": [
    "#### Segmenting the search\n",
    "When we started with the above search to retrieve the list of exchange codes within the United States, we discovered that the result set returned the entire universe of instruments.  If our goal is to capture the entire instrument list, we cannot group and bucket the result set as we did above.  The # of hits returned is over 4 million so we are forced to go through a tedious process of segmenting the requests.\n",
    "\n",
    "One way to do this is to choose some kind of indicator that will allow you to group your individual requests to successfully segment the result set.  However, you need to first ask yourself - do I need the entire data universe?  You may only be interested in a specific asset category thus reducing the universe of results significantly.\n",
    "\n",
    "One possible way to approach this is to first capture the list of asset categories using a navigator on the property: 'RCSAssetCategoryLeaf'.  \n",
    "For example:"
   ]
  },
  {
   "cell_type": "code",
   "execution_count": 9,
   "metadata": {},
   "outputs": [
    {
     "data": {
      "text/plain": [
       "[{'Label': 'Equity Cash Option', 'Count': 1498984},\n",
       " {'Label': 'Equity Future', 'Count': 1460808},\n",
       " {'Label': 'Ordinary Share', 'Count': 417961},\n",
       " {'Label': 'Stock Index Future Option', 'Count': 282823},\n",
       " {'Label': 'Stock Index Cash Option', 'Count': 98489},\n",
       " {'Label': 'Equity Future Spread', 'Count': 48767},\n",
       " {'Label': 'Unit', 'Count': 44397},\n",
       " {'Label': 'American Depository Receipt', 'Count': 30166},\n",
       " {'Label': 'Company Warrant', 'Count': 24757},\n",
       " {'Label': 'Preferred Share', 'Count': 20930},\n",
       " {'Label': 'Stock Index Future', 'Count': 20321},\n",
       " {'Label': 'Preference Share', 'Count': 12757},\n",
       " {'Label': 'Depository Receipt', 'Count': 7996},\n",
       " {'Label': 'Depository Share', 'Count': 7541},\n",
       " {'Label': 'Right', 'Count': 7020},\n",
       " {'Label': 'Bond', 'Count': 6447},\n",
       " {'Label': 'Equity-Linked Security', 'Count': 6253},\n",
       " {'Label': 'Fully Paid Ordinary Share', 'Count': 5632},\n",
       " {'Label': 'Index-Linked Security', 'Count': 4436},\n",
       " {'Label': 'Convertible Preference Share', 'Count': 2847},\n",
       " {'Label': 'Cumulative Preference Share', 'Count': 1626},\n",
       " {'Label': 'Currency Cash Option', 'Count': 1425},\n",
       " {'Label': 'Global Depository Receipt', 'Count': 1225},\n",
       " {'Label': 'Investment Certificate', 'Count': 1125},\n",
       " {'Label': 'Equity Market Statistics', 'Count': 988},\n",
       " {'Label': 'Enhanced Trust Preferred Security', 'Count': 921},\n",
       " {'Label': 'Guarantee Certificate', 'Count': 434},\n",
       " {'Label': 'Thai Non-Voting Depository Receipt', 'Count': 369},\n",
       " {'Label': 'Subscription Right', 'Count': 298},\n",
       " {'Label': 'ETF Future', 'Count': 284},\n",
       " {'Label': 'Currency Future', 'Count': 174},\n",
       " {'Label': 'Stapled Security', 'Count': 174},\n",
       " {'Label': 'Non-Cumulative Preference Share', 'Count': 163},\n",
       " {'Label': 'CHESS Depository Interest', 'Count': 155},\n",
       " {'Label': 'Redeemable Preference Share', 'Count': 128},\n",
       " {'Label': 'Equity Future Option', 'Count': 115},\n",
       " {'Label': 'Traditional Warrant', 'Count': 83},\n",
       " {'Label': 'Future', 'Count': 64},\n",
       " {'Label': 'Commodity ETF', 'Count': 61},\n",
       " {'Label': 'Warrant', 'Count': 56},\n",
       " {'Label': 'Equity', 'Count': 54},\n",
       " {'Label': 'Spread', 'Count': 52},\n",
       " {'Label': 'Interest Rate-Linked Security', 'Count': 41},\n",
       " {'Label': 'Commodity-Linked Security', 'Count': 36},\n",
       " {'Label': 'Savings Share', 'Count': 31},\n",
       " {'Label': 'Swedish Depository Receipt', 'Count': 31},\n",
       " {'Label': 'ETF Option', 'Count': 29},\n",
       " {'Label': 'Participating Preference Share', 'Count': 23},\n",
       " {'Label': 'Mexican Ordinary Participation Certificate', 'Count': 18},\n",
       " {'Label': 'Participation Share', 'Count': 15},\n",
       " {'Label': 'Peruvian Investment Share', 'Count': 12},\n",
       " {'Label': 'Redemption Share', 'Count': 12},\n",
       " {'Label': 'Dutch Certificate', 'Count': 10},\n",
       " {'Label': 'Stock Dividend', 'Count': 10},\n",
       " {'Label': 'Tracker Certificate', 'Count': 9},\n",
       " {'Label': 'Deferred Share', 'Count': 8},\n",
       " {'Label': 'Open-End Fund', 'Count': 8},\n",
       " {'Label': 'Brazilian Depository Receipt', 'Count': 5},\n",
       " {'Label': 'Brazilian Unit', 'Count': 5},\n",
       " {'Label': 'Genussschein', 'Count': 4},\n",
       " {'Label': 'Ordinary Subscription Receipt', 'Count': 4},\n",
       " {'Label': 'European Depository Receipt', 'Count': 3},\n",
       " {'Label': 'Partly Paid Ordinary Share', 'Count': 3},\n",
       " {'Label': 'Philippine Depository Receipt', 'Count': 3},\n",
       " {'Label': 'Commodity Fundamentals', 'Count': 2},\n",
       " {'Label': 'Company Option', 'Count': 2},\n",
       " {'Label': 'Express Certificate', 'Count': 2},\n",
       " {'Label': 'Paid Subscription Share', 'Count': 2},\n",
       " {'Label': 'Currency Future Option', 'Count': 1},\n",
       " {'Label': 'Income Deposit Security', 'Count': 1},\n",
       " {'Label': 'Nil Paid Ordinary Share', 'Count': 1},\n",
       " {'Label': 'Option Right', 'Count': 1}]"
      ]
     },
     "execution_count": 9,
     "metadata": {},
     "output_type": "execute_result"
    }
   ],
   "source": [
    "response=search.Definition(\n",
    "    view = search.SearchViews.EQUITY_QUOTES,\n",
    "    filter = \"RCSExchangeCountryLeaf eq 'United States'\",\n",
    "    top = 0,\n",
    "    navigators = \"RCSAssetCategoryLeaf\"\n",
    ").get_data()\n",
    "response.data.raw['Navigators']['RCSAssetCategoryLeaf']['Buckets']"
   ]
  },
  {
   "cell_type": "markdown",
   "metadata": {},
   "source": [
    "The result of this will not only provide the complete list of categories for you to potentially select the desired ones, but for each, you can see the number of results.  This will further allow you to tune your requests based on these totals.\n",
    "\n",
    "However, the above summary shows many categories that easily exceed the limits of the server.  If you need to further segment, you can possibly use the ***market cap*** to segment a specific asset category.\n",
    "\n",
    "For example, let's choose an asset category where we can get a breakdown of the market cap:"
   ]
  },
  {
   "cell_type": "code",
   "execution_count": 22,
   "metadata": {},
   "outputs": [
    {
     "data": {
      "text/plain": [
       "[{'Label': 'Below 3223369.15',\n",
       "  'Filter': 'MktCapTotal lt 3223369.15',\n",
       "  'Count': 9452},\n",
       " {'Label': 'Between 3223369.15 And 18680018.75',\n",
       "  'Filter': '(MktCapTotal ge 3223369.15 and MktCapTotal lt 18680018.75)',\n",
       "  'Count': 9452},\n",
       " {'Label': 'Between 18680018.75 And 52061314.88',\n",
       "  'Filter': '(MktCapTotal ge 18680018.75 and MktCapTotal lt 52061314.88)',\n",
       "  'Count': 9423},\n",
       " {'Label': 'Between 52061314.88 And 110563932.92',\n",
       "  'Filter': '(MktCapTotal ge 52061314.88 and MktCapTotal lt 110563932.92)',\n",
       "  'Count': 9451},\n",
       " {'Label': 'Between 110563932.92 And 207182282.56',\n",
       "  'Filter': '(MktCapTotal ge 110563932.92 and MktCapTotal lt 207182282.56)',\n",
       "  'Count': 9444},\n",
       " {'Label': 'Between 207182282.56 And 340020481.62',\n",
       "  'Filter': '(MktCapTotal ge 207182282.56 and MktCapTotal lt 340020481.62)',\n",
       "  'Count': 9447},\n",
       " {'Label': 'Between 340020481.62 And 562119974.92',\n",
       "  'Filter': '(MktCapTotal ge 340020481.62 and MktCapTotal lt 562119974.92)',\n",
       "  'Count': 9447},\n",
       " {'Label': 'Between 562119974.92 And 980395359.7',\n",
       "  'Filter': '(MktCapTotal ge 562119974.92 and MktCapTotal lt 980395359.7)',\n",
       "  'Count': 9476},\n",
       " {'Label': 'Between 980395359.7 And 1691263698.92',\n",
       "  'Filter': '(MktCapTotal ge 980395359.7 and MktCapTotal lt 1691263698.92)',\n",
       "  'Count': 9394},\n",
       " {'Label': 'Between 1691263698.92 And 2965176778.79',\n",
       "  'Filter': '(MktCapTotal ge 1691263698.92 and MktCapTotal lt 2965176778.79)',\n",
       "  'Count': 9491},\n",
       " {'Label': 'Between 2965176778.79 And 5395994802.82',\n",
       "  'Filter': '(MktCapTotal ge 2965176778.79 and MktCapTotal lt 5395994802.82)',\n",
       "  'Count': 9470},\n",
       " {'Label': 'Between 5395994802.82 And 14032416093.38',\n",
       "  'Filter': '(MktCapTotal ge 5395994802.82 and MktCapTotal lt 14032416093.38)',\n",
       "  'Count': 9389},\n",
       " {'Label': 'Above 14032416093.38',\n",
       "  'Filter': 'MktCapTotal ge 14032416093.38',\n",
       "  'Count': 9462}]"
      ]
     },
     "execution_count": 22,
     "metadata": {},
     "output_type": "execute_result"
    }
   ],
   "source": [
    "# The following navigator will prepare the buckets of evenly distributed market cap ranges such that they fulfill \n",
    "# the limit requirements.  Below, I chose 12 as this will produce reasonable buckets we can work with.\n",
    "response=search.Definition(\n",
    "    view = search.SearchViews.EQUITY_QUOTES,\n",
    "    filter = \"RCSExchangeCountryLeaf eq 'United States' and RCSAssetCategoryLeaf xeq 'Ordinary Share'\",\n",
    "    top = 0,\n",
    "    navigators = \"MktCapTotal(type:range, buckets:13)\"\n",
    ").get_data()\n",
    "response.data.raw[\"Navigators\"][\"MktCapTotal\"][\"Buckets\"]"
   ]
  },
  {
   "cell_type": "markdown",
   "metadata": {},
   "source": [
    "The first thing to note is that the 'Count' values for each bucket are within the valid limit of the server.  Based on this output, we can use the convenient Filter expressions provided to drive our segmented search requests.\n",
    "\n",
    "For demonstration purposes, I will select one to retrieve the list of RICs for the specific asset category with the specified market cap range."
   ]
  },
  {
   "cell_type": "code",
   "execution_count": 23,
   "metadata": {},
   "outputs": [
    {
     "data": {
      "text/plain": [
       "\"RCSExchangeCountryLeaf eq 'United States' and RCSAssetCategoryLeaf xeq 'Ordinary Share' and (MktCapTotal ge 3223369.15 and MktCapTotal lt 18680018.75)\""
      ]
     },
     "execution_count": 23,
     "metadata": {},
     "output_type": "execute_result"
    }
   ],
   "source": [
    "# Define our filter\n",
    "range1 = response.data.raw[\"Navigators\"][\"MktCapTotal\"][\"Buckets\"][1][\"Filter\"]\n",
    "filter = f\"RCSExchangeCountryLeaf eq 'United States' and RCSAssetCategoryLeaf xeq 'Ordinary Share' and {range1}\"\n",
    "filter"
   ]
  },
  {
   "cell_type": "code",
   "execution_count": 25,
   "metadata": {},
   "outputs": [
    {
     "data": {
      "text/plain": [
       "'Request resulted in a segement of 9452 documents.'"
      ]
     },
     "execution_count": 25,
     "metadata": {},
     "output_type": "execute_result"
    }
   ],
   "source": [
    "response = search.Definition(\n",
    "    view = search.SearchViews.EQUITY_QUOTES,\n",
    "    filter = filter,\n",
    "    top = 10000\n",
    ").get_data()\n",
    "f'Request resulted in a segement of {response.total} documents.'"
   ]
  },
  {
   "cell_type": "markdown",
   "metadata": {},
   "source": [
    "Based on the buckets I defined, I can now safely use a filter to pull out a segment of instruments.  Despite using a combination of navigators and filters to conveniently define how to break up the segments to avoid these limits, the work to do so is still relatively complicated.\n",
    "\n",
    "While it may be possible to pull out excessive amounts of data, you should ask yourself if you need to do this.  In most cases, you may be able to reduce the result set when you set up your search instead of pulling in everything then massage the results once you have them in hand.  Search was designed specifically to allow users to filter out unwanted content prior to returning the results.  If you think this way through your searching patterns, you will undoubtedly avoid situations where you need to create complicated algorithms to unnecessarily pull excessive amounts of data. Whether narrowing the request based on interested categories, or data for a specific region, you will find that you can significantly simplify your logic and avoid issues with limits."
   ]
  },
  {
   "cell_type": "code",
   "execution_count": null,
   "metadata": {},
   "outputs": [],
   "source": []
  }
 ],
 "metadata": {
  "kernelspec": {
   "display_name": "Python 3 (ipykernel)",
   "language": "python",
   "name": "python3"
  },
  "language_info": {
   "codemirror_mode": {
    "name": "ipython",
    "version": 3
   },
   "file_extension": ".py",
   "mimetype": "text/x-python",
   "name": "python",
   "nbconvert_exporter": "python",
   "pygments_lexer": "ipython3",
   "version": "3.9.4"
  }
 },
 "nbformat": 4,
 "nbformat_minor": 4
}
