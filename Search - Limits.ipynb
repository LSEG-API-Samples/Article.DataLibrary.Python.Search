{
 "cells": [
  {
   "cell_type": "markdown",
   "metadata": {},
   "source": [
    "## Limits\n",
    "RDP Search does impose limits on the size of the result set when requesting for large data sets.  The following examples provide some useful techniques when dealing with results reaching the upper limits imposed by the backend."
   ]
  },
  {
   "cell_type": "code",
   "execution_count": 1,
   "metadata": {},
   "outputs": [
    {
     "data": {
      "text/plain": [
       "<refinitiv.data.session.Definition object at 0x195f54c1840 {name='workspace'}>"
      ]
     },
     "execution_count": 1,
     "metadata": {},
     "output_type": "execute_result"
    }
   ],
   "source": [
    "import refinitiv.data as rd\n",
    "from refinitiv.data.content import search\n",
    "import pandas as pd\n",
    "\n",
    "# Default session - desktop\n",
    "rd.open_session()"
   ]
  },
  {
   "cell_type": "code",
   "execution_count": 2,
   "metadata": {},
   "outputs": [
    {
     "data": {
      "text/plain": [
       "'1.1.0'"
      ]
     },
     "execution_count": 2,
     "metadata": {},
     "output_type": "execute_result"
    }
   ],
   "source": [
    "pd.set_option('display.max_colwidth', 140)\n",
    "rd.__version__"
   ]
  },
  {
   "cell_type": "markdown",
   "metadata": {},
   "source": [
    "#### Grouping\n",
    "There may be instances where the result set contains groups of values for properties based on your request.  For example, if I'm interested in retrieving all exchanges within the USA, I can execute this request:"
   ]
  },
  {
   "cell_type": "code",
   "execution_count": 3,
   "metadata": {},
   "outputs": [
    {
     "name": "stderr",
     "output_type": "stream",
     "text": [
      "C:\\Users\\U8007876\\AppData\\Local\\Programs\\Python\\Python310\\lib\\site-packages\\refinitiv\\data\\content\\search\\_data_provider.py:309: UserWarning: Search result for None not full.\n",
      "Result is maxed at 10000 while the total is 3994341 rows.\n",
      "Requested - 10000, skipped - 0 rows.\n",
      "  warnings.warn(\n"
     ]
    },
    {
     "data": {
      "text/plain": [
       "3994341"
      ]
     },
     "execution_count": 3,
     "metadata": {},
     "output_type": "execute_result"
    }
   ],
   "source": [
    "response = search.Definition(\n",
    "    view = search.Views.EQUITY_QUOTES,\n",
    "    filter = \"RCSExchangeCountryLeaf eq 'United States'\",\n",
    "    top = 10000,\n",
    "    select = \"ExchangeCode, RIC\"\n",
    ").get_data()\n",
    "response.total"
   ]
  },
  {
   "cell_type": "code",
   "execution_count": 4,
   "metadata": {},
   "outputs": [
    {
     "data": {
      "text/html": [
       "<div>\n",
       "<style scoped>\n",
       "    .dataframe tbody tr th:only-of-type {\n",
       "        vertical-align: middle;\n",
       "    }\n",
       "\n",
       "    .dataframe tbody tr th {\n",
       "        vertical-align: top;\n",
       "    }\n",
       "\n",
       "    .dataframe thead th {\n",
       "        text-align: right;\n",
       "    }\n",
       "</style>\n",
       "<table border=\"1\" class=\"dataframe\">\n",
       "  <thead>\n",
       "    <tr style=\"text-align: right;\">\n",
       "      <th></th>\n",
       "      <th>ExchangeCode</th>\n",
       "      <th>RIC</th>\n",
       "    </tr>\n",
       "  </thead>\n",
       "  <tbody>\n",
       "    <tr>\n",
       "      <th>0</th>\n",
       "      <td>NSQ</td>\n",
       "      <td>TSLA.O</td>\n",
       "    </tr>\n",
       "    <tr>\n",
       "      <th>1</th>\n",
       "      <td>NSQ</td>\n",
       "      <td>NVDA.O</td>\n",
       "    </tr>\n",
       "    <tr>\n",
       "      <th>2</th>\n",
       "      <td>NSQ</td>\n",
       "      <td>AAPL.O</td>\n",
       "    </tr>\n",
       "    <tr>\n",
       "      <th>3</th>\n",
       "      <td>NSQ</td>\n",
       "      <td>MSFT.O</td>\n",
       "    </tr>\n",
       "    <tr>\n",
       "      <th>4</th>\n",
       "      <td>NSQ</td>\n",
       "      <td>AMZN.O</td>\n",
       "    </tr>\n",
       "    <tr>\n",
       "      <th>...</th>\n",
       "      <td>...</td>\n",
       "      <td>...</td>\n",
       "    </tr>\n",
       "    <tr>\n",
       "      <th>9995</th>\n",
       "      <td>PNK</td>\n",
       "      <td>MBCI.PK</td>\n",
       "    </tr>\n",
       "    <tr>\n",
       "      <th>9996</th>\n",
       "      <td>PNK</td>\n",
       "      <td>NWYU.PK</td>\n",
       "    </tr>\n",
       "    <tr>\n",
       "      <th>9997</th>\n",
       "      <td>PNK</td>\n",
       "      <td>DEER.PK</td>\n",
       "    </tr>\n",
       "    <tr>\n",
       "      <th>9998</th>\n",
       "      <td>PNK</td>\n",
       "      <td>FSMK.PK</td>\n",
       "    </tr>\n",
       "    <tr>\n",
       "      <th>9999</th>\n",
       "      <td>PNK</td>\n",
       "      <td>FAHE.PK</td>\n",
       "    </tr>\n",
       "  </tbody>\n",
       "</table>\n",
       "<p>10000 rows × 2 columns</p>\n",
       "</div>"
      ],
      "text/plain": [
       "     ExchangeCode      RIC\n",
       "0             NSQ   TSLA.O\n",
       "1             NSQ   NVDA.O\n",
       "2             NSQ   AAPL.O\n",
       "3             NSQ   MSFT.O\n",
       "4             NSQ   AMZN.O\n",
       "...           ...      ...\n",
       "9995          PNK  MBCI.PK\n",
       "9996          PNK  NWYU.PK\n",
       "9997          PNK  DEER.PK\n",
       "9998          PNK  FSMK.PK\n",
       "9999          PNK  FAHE.PK\n",
       "\n",
       "[10000 rows x 2 columns]"
      ]
     },
     "execution_count": 4,
     "metadata": {},
     "output_type": "execute_result"
    }
   ],
   "source": [
    "response.data.df"
   ]
  },
  {
   "cell_type": "markdown",
   "metadata": {},
   "source": [
    "In the above example, you can see the total available documents is nearly 4,000,000 and Search provide a warning.  However, due to the nature of the data set, the exchange codes have been repeated which brought back the upper limit of documents within the result set.  **Note**: At the time of this writing, the upper limit has been defined as 10000 result sets.\n",
    "\n",
    "Instead of performing multiple calls and pulling out the unique codes within each result set, I can apply the grouping features offered by Search to significantly reduce the result set returned.  For example:"
   ]
  },
  {
   "cell_type": "code",
   "execution_count": 5,
   "metadata": {},
   "outputs": [
    {
     "data": {
      "text/html": [
       "<div>\n",
       "<style scoped>\n",
       "    .dataframe tbody tr th:only-of-type {\n",
       "        vertical-align: middle;\n",
       "    }\n",
       "\n",
       "    .dataframe tbody tr th {\n",
       "        vertical-align: top;\n",
       "    }\n",
       "\n",
       "    .dataframe thead th {\n",
       "        text-align: right;\n",
       "    }\n",
       "</style>\n",
       "<table border=\"1\" class=\"dataframe\">\n",
       "  <thead>\n",
       "    <tr style=\"text-align: right;\">\n",
       "      <th></th>\n",
       "      <th>ExchangeCode</th>\n",
       "    </tr>\n",
       "  </thead>\n",
       "  <tbody>\n",
       "    <tr>\n",
       "      <th>0</th>\n",
       "      <td>NSQ</td>\n",
       "    </tr>\n",
       "    <tr>\n",
       "      <th>1</th>\n",
       "      <td>NYQ</td>\n",
       "    </tr>\n",
       "    <tr>\n",
       "      <th>2</th>\n",
       "      <td>NMQ</td>\n",
       "    </tr>\n",
       "    <tr>\n",
       "      <th>3</th>\n",
       "      <td>ASQ</td>\n",
       "    </tr>\n",
       "    <tr>\n",
       "      <th>4</th>\n",
       "      <td>NAQ</td>\n",
       "    </tr>\n",
       "    <tr>\n",
       "      <th>...</th>\n",
       "      <td>...</td>\n",
       "    </tr>\n",
       "    <tr>\n",
       "      <th>146</th>\n",
       "      <td>CC3</td>\n",
       "    </tr>\n",
       "    <tr>\n",
       "      <th>147</th>\n",
       "      <td>CCE</td>\n",
       "    </tr>\n",
       "    <tr>\n",
       "      <th>148</th>\n",
       "      <td>CSC</td>\n",
       "    </tr>\n",
       "    <tr>\n",
       "      <th>149</th>\n",
       "      <td>HAM</td>\n",
       "    </tr>\n",
       "    <tr>\n",
       "      <th>150</th>\n",
       "      <td>NYC</td>\n",
       "    </tr>\n",
       "  </tbody>\n",
       "</table>\n",
       "<p>151 rows × 1 columns</p>\n",
       "</div>"
      ],
      "text/plain": [
       "    ExchangeCode\n",
       "0            NSQ\n",
       "1            NYQ\n",
       "2            NMQ\n",
       "3            ASQ\n",
       "4            NAQ\n",
       "..           ...\n",
       "146          CC3\n",
       "147          CCE\n",
       "148          CSC\n",
       "149          HAM\n",
       "150          NYC\n",
       "\n",
       "[151 rows x 1 columns]"
      ]
     },
     "execution_count": 5,
     "metadata": {},
     "output_type": "execute_result"
    }
   ],
   "source": [
    "rd.discovery.search(\n",
    "    view = search.Views.EQUITY_QUOTES,\n",
    "    filter = \"RCSExchangeCountryLeaf eq 'United States'\",\n",
    "    top = 10000,\n",
    "    select = \"ExchangeCode\",\n",
    "    group_by = \"ExchangeCode\",    # Exchange codes can be grouped\n",
    "    group_count = 1               # Then limited to 1 for each to create uniqueness\n",
    ")"
   ]
  },
  {
   "cell_type": "markdown",
   "metadata": {},
   "source": [
    "As you can see, I've significantly reduced the result set by grouping which now allows the result set using a single API call.  Using the 'grouping' technique to pull out the unique exchange codes is very useful if you wish to return many other properties as part of your results.  However, if you are strictly after the list of exchange codes, the preferred approach is to use Navigators."
   ]
  },
  {
   "cell_type": "markdown",
   "metadata": {},
   "source": [
    "#### Navigators\n",
    "If the goal of your search is to simply capture the list of exchange codes, then the preferred approach in this case is to use Navigators.  A navigator allows the ability to categorize and summarize properties within the result set.  For example, I can provide a simple navigator where I can limit the number of buckets, or results, within the result set.\n",
    "\n",
    "> Note: You can find more details and examples within the 'Search - Navigators' notebook.\n",
    "\n",
    "You can do this using the following request:"
   ]
  },
  {
   "cell_type": "code",
   "execution_count": 6,
   "metadata": {},
   "outputs": [],
   "source": [
    "response=search.Definition(\n",
    "    view = search.Views.EQUITY_QUOTES,\n",
    "    filter = \"RCSExchangeCountryLeaf eq 'United States'\",\n",
    "    top = 0,\n",
    "    navigators = \"ExchangeCode(buckets:300)\"   # Limit the results\n",
    ").get_data()"
   ]
  },
  {
   "cell_type": "code",
   "execution_count": 9,
   "metadata": {},
   "outputs": [
    {
     "name": "stdout",
     "output_type": "stream",
     "text": [
      "Total exchange codes found: 151\n"
     ]
    }
   ],
   "source": [
    "codes=response.data.raw[\"Navigators\"][\"ExchangeCode\"][\"Buckets\"]\n",
    "print(f'Total exchange codes found: {len(codes)}')"
   ]
  },
  {
   "cell_type": "code",
   "execution_count": 10,
   "metadata": {},
   "outputs": [
    {
     "data": {
      "text/plain": [
       "[{'Label': 'ONE', 'Count': 1441126},\n",
       " {'Label': 'OPQ', 'Count': 1390740},\n",
       " {'Label': 'IOM', 'Count': 358413},\n",
       " {'Label': 'PNK', 'Count': 72396},\n",
       " {'Label': 'CBT', 'Count': 61977},\n",
       " {'Label': 'CME', 'Count': 34439},\n",
       " {'Label': 'OBB', 'Count': 32916},\n",
       " {'Label': 'OTC', 'Count': 26543},\n",
       " {'Label': 'CBO', 'Count': 20421},\n",
       " {'Label': 'BOS', 'Count': 19415},\n",
       " {'Label': 'THM', 'Count': 19003},\n",
       " {'Label': 'XPH', 'Count': 16773},\n",
       " {'Label': 'MID', 'Count': 15697},\n",
       " {'Label': 'PSE', 'Count': 15636},\n",
       " {'Label': 'NYS', 'Count': 15238},\n",
       " {'Label': 'IUS', 'Count': 14590},\n",
       " {'Label': 'CIN', 'Count': 13677},\n",
       " {'Label': 'NTV', 'Count': 13654},\n",
       " {'Label': 'NYQ', 'Count': 13548},\n",
       " {'Label': 'BZX', 'Count': 13546},\n",
       " {'Label': 'BYX', 'Count': 13545},\n",
       " {'Label': 'NMS', 'Count': 11846},\n",
       " {'Label': 'BT1', 'Count': 11815},\n",
       " {'Label': 'NAS', 'Count': 11492},\n",
       " {'Label': 'ARC', 'Count': 11250},\n",
       " {'Label': 'WCB', 'Count': 9914},\n",
       " {'Label': 'NQT', 'Count': 9792},\n",
       " {'Label': 'ADC', 'Count': 9267},\n",
       " {'Label': 'NOI', 'Count': 9145},\n",
       " {'Label': 'AOI', 'Count': 9144},\n",
       " {'Label': 'ASE', 'Count': 8275},\n",
       " {'Label': 'BAT', 'Count': 7972},\n",
       " {'Label': 'NXB', 'Count': 7805},\n",
       " {'Label': 'DEA', 'Count': 7184},\n",
       " {'Label': 'DEX', 'Count': 7184},\n",
       " {'Label': 'BTY', 'Count': 7075},\n",
       " {'Label': 'CBF', 'Count': 6135},\n",
       " {'Label': 'NBN', 'Count': 5652},\n",
       " {'Label': 'BEX', 'Count': 5511},\n",
       " {'Label': 'IEX', 'Count': 5284},\n",
       " {'Label': 'GSX', 'Count': 4671},\n",
       " {'Label': 'MPO', 'Count': 4642},\n",
       " {'Label': 'SCC', 'Count': 4620},\n",
       " {'Label': 'SCB', 'Count': 4587},\n",
       " {'Label': 'ADS', 'Count': 4511},\n",
       " {'Label': 'GSB', 'Count': 4490},\n",
       " {'Label': 'LCB', 'Count': 4479},\n",
       " {'Label': 'ISJ', 'Count': 4477},\n",
       " {'Label': 'ISS', 'Count': 4400},\n",
       " {'Label': 'SCP', 'Count': 4327},\n",
       " {'Label': 'LTE', 'Count': 4276},\n",
       " {'Label': 'SCX', 'Count': 4275},\n",
       " {'Label': 'MMX', 'Count': 4267},\n",
       " {'Label': 'MPE', 'Count': 4213},\n",
       " {'Label': 'LCC', 'Count': 3925},\n",
       " {'Label': 'SCM', 'Count': 3924},\n",
       " {'Label': 'SCZ', 'Count': 3748},\n",
       " {'Label': 'NAQ', 'Count': 3712},\n",
       " {'Label': 'ADF', 'Count': 3588},\n",
       " {'Label': 'SDA', 'Count': 3568},\n",
       " {'Label': 'SCD', 'Count': 3567},\n",
       " {'Label': 'SCY', 'Count': 3547},\n",
       " {'Label': 'LCX', 'Count': 3450},\n",
       " {'Label': 'NSM', 'Count': 3428},\n",
       " {'Label': 'GSC', 'Count': 3419},\n",
       " {'Label': 'GSP', 'Count': 3408},\n",
       " {'Label': 'GSD', 'Count': 3404},\n",
       " {'Label': 'GSM', 'Count': 3403},\n",
       " {'Label': 'NSQ', 'Count': 3386},\n",
       " {'Label': 'LCP', 'Count': 3341},\n",
       " {'Label': 'NMQ', 'Count': 3339},\n",
       " {'Label': 'GCZ', 'Count': 3187},\n",
       " {'Label': 'SCA', 'Count': 3171},\n",
       " {'Label': 'SIE', 'Count': 3130},\n",
       " {'Label': 'GSA', 'Count': 3106},\n",
       " {'Label': 'GCD', 'Count': 3063},\n",
       " {'Label': 'GDA', 'Count': 3063},\n",
       " {'Label': 'GCY', 'Count': 3042},\n",
       " {'Label': 'SCN', 'Count': 3023},\n",
       " {'Label': 'ASQ', 'Count': 2790},\n",
       " {'Label': 'XMC', 'Count': 2738},\n",
       " {'Label': 'LTM', 'Count': 2737},\n",
       " {'Label': 'MPM', 'Count': 2687},\n",
       " {'Label': 'LCM', 'Count': 2614},\n",
       " {'Label': 'IES', 'Count': 2404},\n",
       " {'Label': 'GSN', 'Count': 2254},\n",
       " {'Label': 'GSW', 'Count': 2213},\n",
       " {'Label': 'LCZ', 'Count': 2075},\n",
       " {'Label': 'LTS', 'Count': 1972},\n",
       " {'Label': 'XMS', 'Count': 1966},\n",
       " {'Label': 'MPS', 'Count': 1931},\n",
       " {'Label': 'LCD', 'Count': 1894},\n",
       " {'Label': 'LDA', 'Count': 1894},\n",
       " {'Label': 'LCY', 'Count': 1858},\n",
       " {'Label': 'LCA', 'Count': 1678},\n",
       " {'Label': 'GSI', 'Count': 1660},\n",
       " {'Label': 'IEG', 'Count': 1549},\n",
       " {'Label': 'LCN', 'Count': 1493},\n",
       " {'Label': 'LTG', 'Count': 1419},\n",
       " {'Label': 'XMG', 'Count': 1418},\n",
       " {'Label': 'MPG', 'Count': 1404},\n",
       " {'Label': 'LCI', 'Count': 1324},\n",
       " {'Label': 'CFT', 'Count': 1235},\n",
       " {'Label': 'MGE', 'Count': 1164},\n",
       " {'Label': 'SCW', 'Count': 1005},\n",
       " {'Label': 'LCW', 'Count': 950},\n",
       " {'Label': 'NYF', 'Count': 926},\n",
       " {'Label': 'NYM', 'Count': 872},\n",
       " {'Label': 'SCI', 'Count': 782},\n",
       " {'Label': 'NYL', 'Count': 703},\n",
       " {'Label': 'NBA', 'Count': 615},\n",
       " {'Label': 'PKN', 'Count': 585},\n",
       " {'Label': 'BBA', 'Count': 575},\n",
       " {'Label': 'IMM', 'Count': 566},\n",
       " {'Label': 'PCQ', 'Count': 420},\n",
       " {'Label': 'CC3', 'Count': 370},\n",
       " {'Label': 'PKC', 'Count': 338},\n",
       " {'Label': 'FRX', 'Count': 233},\n",
       " {'Label': 'EUS', 'Count': 199},\n",
       " {'Label': 'PKL', 'Count': 185},\n",
       " {'Label': 'QBB', 'Count': 158},\n",
       " {'Label': 'KBT', 'Count': 152},\n",
       " {'Label': 'PBT', 'Count': 77},\n",
       " {'Label': 'BBM', 'Count': 75},\n",
       " {'Label': 'CMX', 'Count': 44},\n",
       " {'Label': 'NYC', 'Count': 29},\n",
       " {'Label': 'BTQ', 'Count': 23},\n",
       " {'Label': 'MSI', 'Count': 14},\n",
       " {'Label': 'DJI', 'Count': 13},\n",
       " {'Label': 'ICQ', 'Count': 13},\n",
       " {'Label': 'QXE', 'Count': 12},\n",
       " {'Label': 'NDX', 'Count': 10},\n",
       " {'Label': 'AOE', 'Count': 9},\n",
       " {'Label': 'NSF', 'Count': 9},\n",
       " {'Label': 'CSC', 'Count': 8},\n",
       " {'Label': 'MKX', 'Count': 4},\n",
       " {'Label': 'WCQ', 'Count': 4},\n",
       " {'Label': 'HAM', 'Count': 3},\n",
       " {'Label': 'BOX', 'Count': 2},\n",
       " {'Label': 'EIN', 'Count': 2},\n",
       " {'Label': 'PAO', 'Count': 2},\n",
       " {'Label': 'PHO', 'Count': 2},\n",
       " {'Label': 'PQX', 'Count': 2},\n",
       " {'Label': 'QXP', 'Count': 2},\n",
       " {'Label': 'CCE', 'Count': 1},\n",
       " {'Label': 'ELX', 'Count': 1},\n",
       " {'Label': 'ISO', 'Count': 1},\n",
       " {'Label': 'MXP', 'Count': 1},\n",
       " {'Label': 'NML', 'Count': 1},\n",
       " {'Label': 'NYQ|UCQ', 'Count': 1},\n",
       " {'Label': 'QXI', 'Count': 1}]"
      ]
     },
     "execution_count": 10,
     "metadata": {},
     "output_type": "execute_result"
    }
   ],
   "source": [
    "codes"
   ]
  },
  {
   "cell_type": "markdown",
   "metadata": {},
   "source": [
    "#### Segmenting the search\n",
    "When we started with the above search to retrieve the list of exchange codes within the United States, we discovered that the result set returned the entire universe of instruments.  If our goal is to capture the entire instrument list, we cannot group and bucket the result set as we did above.  The # of hits returned is nearly 4 million so we are forced to go through a tedious process of segmenting the requests.\n",
    "\n",
    "One way to do this is to choose some kind of indicator that will allow you to group your individual requests to successfully segment the result set.  However, you need to first ask yourself - do I need the entire data universe?  You may only be interested in a specific asset category thus reducing the universe of results significantly.\n",
    "\n",
    "One possible way to approach this is to first capture the list of asset categories using a navigator on the property: 'RCSAssetCategoryLeaf'.  \n",
    "For example:"
   ]
  },
  {
   "cell_type": "code",
   "execution_count": 11,
   "metadata": {},
   "outputs": [
    {
     "data": {
      "text/plain": [
       "[{'Label': 'Equity Future', 'Count': 1461265},\n",
       " {'Label': 'Equity Cash Option', 'Count': 1444454},\n",
       " {'Label': 'Ordinary Share', 'Count': 438208},\n",
       " {'Label': 'Stock Index Future Option', 'Count': 261729},\n",
       " {'Label': 'Stock Index Cash Option', 'Count': 97348},\n",
       " {'Label': 'Equity Future Spread', 'Count': 49253},\n",
       " {'Label': 'Unit', 'Count': 47701},\n",
       " {'Label': 'American Depository Receipt', 'Count': 31775},\n",
       " {'Label': 'Stock Index Future', 'Count': 23091},\n",
       " {'Label': 'Company Warrant', 'Count': 22537},\n",
       " {'Label': 'Preferred Share', 'Count': 21870},\n",
       " {'Label': 'Preference Share', 'Count': 12756},\n",
       " {'Label': 'Right', 'Count': 8185},\n",
       " {'Label': 'Depository Share', 'Count': 8184},\n",
       " {'Label': 'Depository Receipt', 'Count': 8112},\n",
       " {'Label': 'Equity-Linked Security', 'Count': 6840},\n",
       " {'Label': 'Bond', 'Count': 6608},\n",
       " {'Label': 'Fully Paid Ordinary Share', 'Count': 5892},\n",
       " {'Label': 'Index-Linked Security', 'Count': 4436},\n",
       " {'Label': 'Convertible Preference Share', 'Count': 2876},\n",
       " {'Label': 'Currency Cash Option', 'Count': 1885},\n",
       " {'Label': 'Cumulative Preference Share', 'Count': 1642},\n",
       " {'Label': 'Global Depository Receipt', 'Count': 1233},\n",
       " {'Label': 'Investment Certificate', 'Count': 1127},\n",
       " {'Label': 'Equity Market Statistics', 'Count': 988},\n",
       " {'Label': 'Enhanced Trust Preferred Security', 'Count': 929},\n",
       " {'Label': 'Guarantee Certificate', 'Count': 433},\n",
       " {'Label': 'Thai Non-Voting Depository Receipt', 'Count': 379},\n",
       " {'Label': 'Subscription Right', 'Count': 312},\n",
       " {'Label': 'ETF Future', 'Count': 284},\n",
       " {'Label': 'Stapled Security', 'Count': 181},\n",
       " {'Label': 'Currency Future', 'Count': 177},\n",
       " {'Label': 'Non-Cumulative Preference Share', 'Count': 165},\n",
       " {'Label': 'CHESS Depository Interest', 'Count': 160},\n",
       " {'Label': 'Redeemable Preference Share', 'Count': 128},\n",
       " {'Label': 'Traditional Warrant', 'Count': 87},\n",
       " {'Label': 'Equity Future Option', 'Count': 83},\n",
       " {'Label': 'Future', 'Count': 64},\n",
       " {'Label': 'Commodity ETF', 'Count': 61},\n",
       " {'Label': 'Equity', 'Count': 54},\n",
       " {'Label': 'Spread', 'Count': 52},\n",
       " {'Label': 'ETF Option', 'Count': 43},\n",
       " {'Label': 'Interest Rate-Linked Security', 'Count': 41},\n",
       " {'Label': 'Commodity-Linked Security', 'Count': 36},\n",
       " {'Label': 'Savings Share', 'Count': 31},\n",
       " {'Label': 'Swedish Depository Receipt', 'Count': 31},\n",
       " {'Label': 'Participating Preference Share', 'Count': 23},\n",
       " {'Label': 'Mexican Ordinary Participation Certificate', 'Count': 18},\n",
       " {'Label': 'Redemption Share', 'Count': 18},\n",
       " {'Label': 'Participation Share', 'Count': 15},\n",
       " {'Label': 'Dutch Certificate', 'Count': 12},\n",
       " {'Label': 'Peruvian Investment Share', 'Count': 12},\n",
       " {'Label': 'Deferred Share', 'Count': 11},\n",
       " {'Label': 'Open-End Fund', 'Count': 10},\n",
       " {'Label': 'Stock Dividend', 'Count': 10},\n",
       " {'Label': 'Tracker Certificate', 'Count': 7},\n",
       " {'Label': 'Brazilian Depository Receipt', 'Count': 5},\n",
       " {'Label': 'Brazilian Unit', 'Count': 5},\n",
       " {'Label': 'Genussschein', 'Count': 4},\n",
       " {'Label': 'Ordinary Subscription Receipt', 'Count': 4},\n",
       " {'Label': 'European Depository Receipt', 'Count': 3},\n",
       " {'Label': 'Partly Paid Ordinary Share', 'Count': 3},\n",
       " {'Label': 'Philippine Depository Receipt', 'Count': 3},\n",
       " {'Label': 'Warrant', 'Count': 3},\n",
       " {'Label': 'Closed-End Fund', 'Count': 2},\n",
       " {'Label': 'Commodity Fundamentals', 'Count': 2},\n",
       " {'Label': 'Company Option', 'Count': 2},\n",
       " {'Label': 'Paid Subscription Share', 'Count': 2},\n",
       " {'Label': 'Subscription Option', 'Count': 2},\n",
       " {'Label': 'Currency Future Option', 'Count': 1},\n",
       " {'Label': 'Income Deposit Security', 'Count': 1},\n",
       " {'Label': 'Nil Paid Ordinary Share', 'Count': 1},\n",
       " {'Label': 'Option Right', 'Count': 1}]"
      ]
     },
     "execution_count": 11,
     "metadata": {},
     "output_type": "execute_result"
    }
   ],
   "source": [
    "response=search.Definition(\n",
    "    view = search.Views.EQUITY_QUOTES,\n",
    "    filter = \"RCSExchangeCountryLeaf eq 'United States'\",\n",
    "    top = 0,\n",
    "    navigators = \"RCSAssetCategoryLeaf\"\n",
    ").get_data()\n",
    "response.data.raw['Navigators']['RCSAssetCategoryLeaf']['Buckets']"
   ]
  },
  {
   "cell_type": "markdown",
   "metadata": {},
   "source": [
    "The result of this will not only provide the complete list of categories for you to potentially select the desired ones, but for each, you can see the number of results.  This will further allow you to tune your requests based on these totals.\n",
    "\n",
    "However, the above summary shows many categories that easily exceed the limits of the server.  If you need to further segment, you can possibly use the ***market cap*** to segment a specific asset category.\n",
    "\n",
    "For example, let's choose an asset category where we can get a breakdown of the market cap:"
   ]
  },
  {
   "cell_type": "code",
   "execution_count": 12,
   "metadata": {},
   "outputs": [
    {
     "data": {
      "text/plain": [
       "[{'Label': 'Below 2741194.19',\n",
       "  'Filter': 'MktCapTotal lt 2741194.19',\n",
       "  'Count': 9622},\n",
       " {'Label': 'Between 2741194.19 And 14267535.77',\n",
       "  'Filter': '(MktCapTotal ge 2741194.19 and MktCapTotal lt 14267535.77)',\n",
       "  'Count': 9624},\n",
       " {'Label': 'Between 14267535.77 And 39227374.59',\n",
       "  'Filter': '(MktCapTotal ge 14267535.77 and MktCapTotal lt 39227374.59)',\n",
       "  'Count': 9642},\n",
       " {'Label': 'Between 39227374.59 And 88167264.13',\n",
       "  'Filter': '(MktCapTotal ge 39227374.59 and MktCapTotal lt 88167264.13)',\n",
       "  'Count': 9594},\n",
       " {'Label': 'Between 88167264.13 And 174202330.2',\n",
       "  'Filter': '(MktCapTotal ge 88167264.13 and MktCapTotal lt 174202330.2)',\n",
       "  'Count': 9604},\n",
       " {'Label': 'Between 174202330.2 And 300766245.49',\n",
       "  'Filter': '(MktCapTotal ge 174202330.2 and MktCapTotal lt 300766245.49)',\n",
       "  'Count': 9680},\n",
       " {'Label': 'Between 300766245.49 And 496317381.96',\n",
       "  'Filter': '(MktCapTotal ge 300766245.49 and MktCapTotal lt 496317381.96)',\n",
       "  'Count': 9588},\n",
       " {'Label': 'Between 496317381.96 And 879779951.03',\n",
       "  'Filter': '(MktCapTotal ge 496317381.96 and MktCapTotal lt 879779951.03)',\n",
       "  'Count': 9609},\n",
       " {'Label': 'Between 879779951.03 And 1542113801.68',\n",
       "  'Filter': '(MktCapTotal ge 879779951.03 and MktCapTotal lt 1542113801.68)',\n",
       "  'Count': 9620},\n",
       " {'Label': 'Between 1542113801.68 And 2759849432.3',\n",
       "  'Filter': '(MktCapTotal ge 1542113801.68 and MktCapTotal lt 2759849432.3)',\n",
       "  'Count': 9599},\n",
       " {'Label': 'Between 2759849432.3 And 5154829919.9',\n",
       "  'Filter': '(MktCapTotal ge 2759849432.3 and MktCapTotal lt 5154829919.9)',\n",
       "  'Count': 9654},\n",
       " {'Label': 'Between 5154829919.9 And 12888935797.13',\n",
       "  'Filter': '(MktCapTotal ge 5154829919.9 and MktCapTotal lt 12888935797.13)',\n",
       "  'Count': 9609},\n",
       " {'Label': 'Above 12888935797.13',\n",
       "  'Filter': 'MktCapTotal ge 12888935797.13',\n",
       "  'Count': 9619}]"
      ]
     },
     "execution_count": 12,
     "metadata": {},
     "output_type": "execute_result"
    }
   ],
   "source": [
    "# The following navigator will prepare the buckets of evenly distributed market cap ranges such that they fulfill \n",
    "# the limit requirements.  Below, I chose 12 as this will produce reasonable buckets we can work with.\n",
    "response=search.Definition(\n",
    "    view = search.Views.EQUITY_QUOTES,\n",
    "    filter = \"RCSExchangeCountryLeaf eq 'United States' and RCSAssetCategoryLeaf xeq 'Ordinary Share'\",\n",
    "    top = 0,\n",
    "    navigators = \"MktCapTotal(type:range, buckets:13)\"\n",
    ").get_data()\n",
    "response.data.raw[\"Navigators\"][\"MktCapTotal\"][\"Buckets\"]"
   ]
  },
  {
   "cell_type": "markdown",
   "metadata": {},
   "source": [
    "The first thing to note is that the 'Count' values for each bucket are within the valid limit of the server.  Based on this output, we can use the convenient Filter expressions provided to drive our segmented search requests.\n",
    "\n",
    "For demonstration purposes, I will select one to retrieve the list of RICs for the specific asset category with the specified market cap range."
   ]
  },
  {
   "cell_type": "code",
   "execution_count": 13,
   "metadata": {},
   "outputs": [
    {
     "data": {
      "text/plain": [
       "\"RCSExchangeCountryLeaf eq 'United States' and RCSAssetCategoryLeaf xeq 'Ordinary Share' and (MktCapTotal ge 2741194.19 and MktCapTotal lt 14267535.77)\""
      ]
     },
     "execution_count": 13,
     "metadata": {},
     "output_type": "execute_result"
    }
   ],
   "source": [
    "# Define our filter\n",
    "range1 = response.data.raw[\"Navigators\"][\"MktCapTotal\"][\"Buckets\"][1][\"Filter\"]\n",
    "filter = f\"RCSExchangeCountryLeaf eq 'United States' and RCSAssetCategoryLeaf xeq 'Ordinary Share' and {range1}\"\n",
    "filter"
   ]
  },
  {
   "cell_type": "code",
   "execution_count": 15,
   "metadata": {},
   "outputs": [
    {
     "data": {
      "text/plain": [
       "'Request resulted in a segement of 9624 documents.'"
      ]
     },
     "execution_count": 15,
     "metadata": {},
     "output_type": "execute_result"
    }
   ],
   "source": [
    "response = search.Definition(\n",
    "    view = search.Views.EQUITY_QUOTES,\n",
    "    filter = filter,\n",
    "    top = 10000\n",
    ").get_data()\n",
    "f'Request resulted in a segement of {response.total} documents.'"
   ]
  },
  {
   "cell_type": "markdown",
   "metadata": {},
   "source": [
    "Based on the buckets I defined, I can now safely use a filter to pull out a segment of instruments.  Despite using a combination of navigators and filters to conveniently define how to break up the segments to avoid these limits, the work to do so is still relatively complicated.\n",
    "\n",
    "While it may be possible to pull out excessive amounts of data, you should ask yourself if you need to do this.  In most cases, you may be able to reduce the result set when you set up your search instead of pulling in everything then massage the results once you have them in hand.  Search was designed specifically to allow users to filter out unwanted content prior to returning the results.  If you think this way through your searching patterns, you will undoubtedly avoid situations where you need to create complicated algorithms to unnecessarily pull excessive amounts of data. Whether narrowing the request based on interested categories, or data for a specific region, you will find that you can significantly simplify your logic and avoid issues with limits."
   ]
  },
  {
   "cell_type": "code",
   "execution_count": 16,
   "metadata": {},
   "outputs": [],
   "source": [
    "rd.close_session()"
   ]
  },
  {
   "cell_type": "code",
   "execution_count": null,
   "metadata": {},
   "outputs": [],
   "source": []
  }
 ],
 "metadata": {
  "kernelspec": {
   "display_name": "Python 3 (ipykernel)",
   "language": "python",
   "name": "python3"
  },
  "language_info": {
   "codemirror_mode": {
    "name": "ipython",
    "version": 3
   },
   "file_extension": ".py",
   "mimetype": "text/x-python",
   "name": "python",
   "nbconvert_exporter": "python",
   "pygments_lexer": "ipython3",
   "version": "3.10.8"
  }
 },
 "nbformat": 4,
 "nbformat_minor": 4
}
